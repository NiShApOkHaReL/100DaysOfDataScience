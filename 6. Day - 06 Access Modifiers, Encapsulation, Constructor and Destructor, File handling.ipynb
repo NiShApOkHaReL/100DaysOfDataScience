{
 "cells": [
  {
   "cell_type": "markdown",
   "id": "043bfa93",
   "metadata": {},
   "source": [
    "# Access Modifiers"
   ]
  },
  {
   "cell_type": "markdown",
   "id": "f86fe270",
   "metadata": {},
   "source": [
    "- In Python, access modifiers are used to control the visibility and accessibility of class attributes and methods.\n",
    "- They help in encapsulating the internal workings of a class and provide different levels of access to different parts of your code."
   ]
  },
  {
   "cell_type": "markdown",
   "id": "5d5dd8d9",
   "metadata": {},
   "source": [
    "### Python has three main access modifier:"
   ]
  },
  {
   "cell_type": "markdown",
   "id": "eb6547ae",
   "metadata": {},
   "source": [
    "1. Public: Attributes and methods marked as public are accessible from anywhere in your code. They are denoted without any underscores (e.g., public_var, public_method).\n",
    "<br>\n",
    "2. Protected: Attributes and methods marked as protected are meant to be accessed within the class itself and its subclasses. They are denoted with a single underscore prefix (e.g., _protected_var, _protected_method).\n",
    "<br>\n",
    "3. Private: Attributes and methods marked as private are only accessible within the class they are defined in. They are denoted with a double underscore prefix (e.g., __private_var, __private_method)."
   ]
  },
  {
   "cell_type": "code",
   "execution_count": 1,
   "id": "547ab400",
   "metadata": {},
   "outputs": [
    {
     "name": "stdout",
     "output_type": "stream",
     "text": [
      "I am a public variable\n",
      "This is a public method.\n",
      "I am a protected variable\n",
      "This is a protected method.\n",
      "I am a private variable\n",
      "This is a private method.\n"
     ]
    }
   ],
   "source": [
    "class myclass:\n",
    "    def __init__(self):\n",
    "        self.public_var = \"I am a public variable\" # All data members and member functions of a class are public by default. \n",
    "        self._protected_var = \"I am a protected variable\"\n",
    "        self.__private_var = \"I am a private variable\"\n",
    "        \n",
    "    def public_method(self):\n",
    "        print(\"This is a public method.\")\n",
    "        \n",
    "    def _protected_method(self):\n",
    "        print(\"This is a protected method.\")\n",
    "        \n",
    "    def __private_method(self):\n",
    "        print(\"This is a private method.\")\n",
    "        \n",
    "obj = myclass()\n",
    "\n",
    "# Accessing public members\n",
    "print(obj.public_var)\n",
    "obj.public_method()\n",
    "\n",
    "# Accessing protected members (though it's a convention to treat it as protected)\n",
    "print(obj._protected_var)\n",
    "obj._protected_method()\n",
    "\n",
    "# Accessing private members (name mangling changes the variable name)\n",
    "# However, you can still access it with the mangled name\n",
    "# like `_MyClass__private_var`\n",
    "# print(obj.__private_var)  # This will raise an AttributeError\n",
    "print(obj._myclass__private_var)\n",
    "obj._myclass__private_method()\n"
   ]
  },
  {
   "cell_type": "markdown",
   "id": "ba396c62",
   "metadata": {},
   "source": [
    "- Mangled names are a mechanism used in Python to handle name conflicts that might arise when dealing with attributes that have double underscores as prefixes in a class.  "
   ]
  },
  {
   "cell_type": "markdown",
   "id": "0acda847",
   "metadata": {},
   "source": [
    "# Encapsulation"
   ]
  },
  {
   "cell_type": "markdown",
   "id": "9cf6d95e",
   "metadata": {},
   "source": [
    "- Encapsulation in Python is achieved using access specifiers to control the visibility and accessibility of class attributes and methods."
   ]
  },
  {
   "cell_type": "markdown",
   "id": "c6494a4e",
   "metadata": {},
   "source": [
    "-  Access specifiers help in enforcing the principle of information hiding, where the internal details of a class are hidden from the outside world, promoting modularity and reducing the risk of unintended interference. "
   ]
  },
  {
   "cell_type": "code",
   "execution_count": 2,
   "id": "53785c2a",
   "metadata": {},
   "outputs": [
    {
     "name": "stdout",
     "output_type": "stream",
     "text": [
      "Account Number:  123456789\n"
     ]
    },
    {
     "ename": "AttributeError",
     "evalue": "'BankAccount' object has no attribute '__balance'",
     "output_type": "error",
     "traceback": [
      "\u001b[1;31m---------------------------------------------------------------------------\u001b[0m",
      "\u001b[1;31mAttributeError\u001b[0m                            Traceback (most recent call last)",
      "Cell \u001b[1;32mIn[2], line 28\u001b[0m\n\u001b[0;32m     26\u001b[0m \u001b[38;5;66;03m# Accessing protected attribute (conventionally treated as protected)\u001b[39;00m\n\u001b[0;32m     27\u001b[0m \u001b[38;5;28mprint\u001b[39m(\u001b[38;5;124m\"\u001b[39m\u001b[38;5;124mAccount Number: \u001b[39m\u001b[38;5;124m\"\u001b[39m,account\u001b[38;5;241m.\u001b[39m_account_number)\n\u001b[1;32m---> 28\u001b[0m \u001b[38;5;28mprint\u001b[39m(\u001b[38;5;124m\"\u001b[39m\u001b[38;5;124mBalance: \u001b[39m\u001b[38;5;124m\"\u001b[39m,\u001b[43maccount\u001b[49m\u001b[38;5;241;43m.\u001b[39;49m\u001b[43m__balance\u001b[49m) \u001b[38;5;66;03m# Error Occured because it is private attribute which can be accessed outside the class\u001b[39;00m\n\u001b[0;32m     30\u001b[0m account\u001b[38;5;241m.\u001b[39mwithdraw(\u001b[38;5;241m1000\u001b[39m)\n\u001b[0;32m     31\u001b[0m account\u001b[38;5;241m.\u001b[39mdeposit(\u001b[38;5;241m5000\u001b[39m)\n",
      "\u001b[1;31mAttributeError\u001b[0m: 'BankAccount' object has no attribute '__balance'"
     ]
    }
   ],
   "source": [
    "class BankAccount:\n",
    "    def __init__(self, account_number, balance):\n",
    "        self._account_number = account_number # Protected attributes\n",
    "        self.__balance = balance # Private attribute\n",
    "        \n",
    "    # Public method to access to private attributes\n",
    "    def get_balance(self):\n",
    "        return self.__balance\n",
    "    \n",
    "    # Public method to perform a withdrawal\n",
    "    def withdraw(self, amount):\n",
    "        if amount <= self.__balance:\n",
    "            self.__balance -= amount\n",
    "            print(\"Withdrawal Successful.\")\n",
    "        else:\n",
    "            print(\"Insufficient balance.\")\n",
    "            \n",
    "    # Public method to deposite money\n",
    "    def deposit(self, amount):\n",
    "        self.__balance += amount\n",
    "        print(\"Deposite successful.\")\n",
    "        \n",
    "# Creating an instance of the BankAccount class\n",
    "account = BankAccount(\"123456789\", 20000.0)\n",
    "\n",
    "# Accessing protected attribute (conventionally treated as protected)\n",
    "print(\"Account Number: \",account._account_number)\n",
    "print(\"Balance: \",account.__balance) # Error Occured because it is private attribute which can be accessed outside the class\n",
    "\n",
    "account.withdraw(1000)\n",
    "account.deposit(5000)\n",
    "\n",
    "\n",
    "        \n",
    "    "
   ]
  },
  {
   "cell_type": "code",
   "execution_count": 3,
   "id": "9d65d44f",
   "metadata": {},
   "outputs": [
    {
     "name": "stdout",
     "output_type": "stream",
     "text": [
      "Account Number:  123456789\n",
      "Balance:  20000.0\n",
      "Withdrawal Successful.\n",
      "Deposite successful.\n"
     ]
    }
   ],
   "source": [
    "class BankAccount:\n",
    "    def __init__(self, account_number, balance):\n",
    "        self._account_number = account_number # Protected attributes\n",
    "        self.__balance = balance # Private attribute\n",
    "        \n",
    "    # Public method to access to private attributes\n",
    "    def get_balance(self):\n",
    "        return self.__balance\n",
    "    \n",
    "    # Public method to perform a withdrawal\n",
    "    def withdraw(self, amount):\n",
    "        if amount <= self.__balance:\n",
    "            self.__balance -= amount\n",
    "            print(\"Withdrawal Successful.\")\n",
    "        else:\n",
    "            print(\"Insufficient balance.\")\n",
    "            \n",
    "    # Public method to deposite money\n",
    "    def deposit(self, amount):\n",
    "        self.__balance += amount\n",
    "        print(\"Deposite successful.\")\n",
    "        \n",
    "# Creating an instance of the BankAccount class\n",
    "account = BankAccount(\"123456789\", 20000.0)\n",
    "\n",
    "# Accessing protected attribute (conventionally treated as protected)\n",
    "print(\"Account Number: \",account._account_number)\n",
    "print(\"Balance: \",account.get_balance()) # Here I have used public method to access the private attributes\n",
    "\n",
    "account.withdraw(1000)\n",
    "account.deposit(5000)\n"
   ]
  },
  {
   "cell_type": "markdown",
   "id": "47a436a0",
   "metadata": {},
   "source": [
    "# Constructors and Destructors"
   ]
  },
  {
   "cell_type": "markdown",
   "id": "aec06b3f",
   "metadata": {},
   "source": [
    "1. Constructor (__init__()) :- The constructor is a special method that gets called when you create an instance (object) of a class.\n",
    "2. Destructor (__del__()) :- The destructor is a special method that gets called when an object is about to be destroyed (garbage collected)."
   ]
  },
  {
   "cell_type": "code",
   "execution_count": 4,
   "id": "a99e6b85",
   "metadata": {},
   "outputs": [
    {
     "name": "stdout",
     "output_type": "stream",
     "text": [
      "New book 'The Great Gatsby' by F. Scott Fitzgerald is created.\n",
      "New book 'To Kill a Mockingbird' by Harper Lee is created.\n",
      "Book Title: The Great Gatsby\n",
      "Author: F. Scott Fitzgerald\n",
      "Book Title: To Kill a Mockingbird\n",
      "Author: Harper Lee\n",
      "The book 'The Great Gatsby' by F. Scott Fitzgerald is being destroyed.\n",
      "The book 'To Kill a Mockingbird' by Harper Lee is being destroyed.\n"
     ]
    }
   ],
   "source": [
    "class Book:\n",
    "    def __init__(self, title, author):\n",
    "        self.title = title  # Initialize the 'title' attribute with the provided 'title' value.\n",
    "        self.author = author  # Initialize the 'author' attribute with the provided 'author' value.\n",
    "        print(f\"New book '{self.title}' by {self.author} is created.\")\n",
    "\n",
    "    def display_info(self):\n",
    "        print(f\"Book Title: {self.title}\")\n",
    "        print(f\"Author: {self.author}\")\n",
    "\n",
    "    def __del__(self):\n",
    "        print(f\"The book '{self.title}' by {self.author} is being destroyed.\")\n",
    "\n",
    "# Creating objects using the constructor\n",
    "book1 = Book(\"The Great Gatsby\", \"F. Scott Fitzgerald\")  # Constructor is called.\n",
    "book2 = Book(\"To Kill a Mockingbird\", \"Harper Lee\")     # Constructor is called.\n",
    "\n",
    "# Calling methods\n",
    "book1.display_info()  \n",
    "book2.display_info() \n",
    "\n",
    "# Deleting objects\n",
    "del book1  # Destructor is called.\n",
    "del book2  # Destructor is called.\n"
   ]
  },
  {
   "cell_type": "markdown",
   "id": "1081dec1",
   "metadata": {},
   "source": [
    "# File Handling"
   ]
  },
  {
   "cell_type": "markdown",
   "id": "d573bfd2",
   "metadata": {},
   "source": [
    "- File handling in Python refers to the ability to work with files on your computer's storage system.\n",
    "- This includes tasks like reading from files, writing to files, and managing file-related operations. \n",
    "- Python provides built-in functions and methods that allow you to perform these operations easily."
   ]
  },
  {
   "cell_type": "code",
   "execution_count": 5,
   "id": "4887d09d",
   "metadata": {},
   "outputs": [],
   "source": [
    "f = open(\"test.txt\")"
   ]
  },
  {
   "cell_type": "code",
   "execution_count": 6,
   "id": "b70a2131",
   "metadata": {},
   "outputs": [
    {
     "name": "stdout",
     "output_type": "stream",
     "text": [
      "This is test file.\n"
     ]
    }
   ],
   "source": [
    "f = open(\"test.txt\",\"r\")\n",
    "print(f.read())"
   ]
  },
  {
   "cell_type": "code",
   "execution_count": null,
   "id": "c0869845",
   "metadata": {},
   "outputs": [],
   "source": []
  },
  {
   "cell_type": "markdown",
   "id": "9a33abab",
   "metadata": {},
   "source": [
    "## Reading Files:"
   ]
  },
  {
   "cell_type": "code",
   "execution_count": 7,
   "id": "483a8994",
   "metadata": {
    "scrolled": true
   },
   "outputs": [
    {
     "name": "stdout",
     "output_type": "stream",
     "text": [
      "This is test file.\n"
     ]
    }
   ],
   "source": [
    "# Opening a file for reading\n",
    "with open(\"test.txt\", \"r\") as file:\n",
    "    content = file.read()  # Read the entire file content\n",
    "\n",
    "print(content)"
   ]
  },
  {
   "cell_type": "code",
   "execution_count": 9,
   "id": "e1231253",
   "metadata": {},
   "outputs": [
    {
     "name": "stdout",
     "output_type": "stream",
     "text": [
      "This is test file.\n"
     ]
    }
   ],
   "source": [
    "f = open(\"E:\\\\100DaysOfDataScience\\\\test.txt\", \"r\")\n",
    "print(f.read())\n",
    "f.close()"
   ]
  },
  {
   "cell_type": "code",
   "execution_count": 12,
   "id": "363e3e31",
   "metadata": {},
   "outputs": [
    {
     "name": "stdout",
     "output_type": "stream",
     "text": [
      "This is test file.\n"
     ]
    }
   ],
   "source": [
    "# Read one line of the file:\n",
    "f = open(\"test.txt\", \"r\")\n",
    "print(f.readline())"
   ]
  },
  {
   "cell_type": "code",
   "execution_count": 14,
   "id": "7895af33",
   "metadata": {},
   "outputs": [
    {
     "name": "stdout",
     "output_type": "stream",
     "text": [
      "This is test file.\n",
      "\n",
      "Hello, My name is nisha pokharel.\n",
      "\n"
     ]
    }
   ],
   "source": [
    "# Read two lines of the file:\n",
    "f = open(\"test.txt\", \"r\")\n",
    "print(f.readline())\n",
    "print(f.readline())"
   ]
  },
  {
   "cell_type": "code",
   "execution_count": null,
   "id": "53c19984",
   "metadata": {},
   "outputs": [],
   "source": []
  },
  {
   "cell_type": "markdown",
   "id": "27358c6f",
   "metadata": {},
   "source": [
    "### Read Only Parts of the File\n"
   ]
  },
  {
   "cell_type": "code",
   "execution_count": 11,
   "id": "4e4897fb",
   "metadata": {},
   "outputs": [
    {
     "name": "stdout",
     "output_type": "stream",
     "text": [
      "This \n"
     ]
    }
   ],
   "source": [
    "# Return the 5 first characters of the file:\n",
    "f = open(\"test.txt\", \"r\")\n",
    "print(f.read(5))"
   ]
  },
  {
   "cell_type": "code",
   "execution_count": 15,
   "id": "22228bf7",
   "metadata": {},
   "outputs": [
    {
     "name": "stdout",
     "output_type": "stream",
     "text": [
      "This is test file.\n",
      "\n",
      "Hello, My name is nisha pokharel.\n",
      "\n",
      "I am learning python file handling.\n",
      "\n",
      "Thank you!!\n"
     ]
    }
   ],
   "source": [
    "# Loop through the file line by line:\n",
    "f = open(\"test.txt\", \"r\")\n",
    "for x in f:\n",
    "  print(x)"
   ]
  },
  {
   "cell_type": "code",
   "execution_count": 17,
   "id": "5d603f59",
   "metadata": {},
   "outputs": [
    {
     "name": "stdout",
     "output_type": "stream",
     "text": [
      "This is test file.\n",
      "\n"
     ]
    }
   ],
   "source": [
    "# It is a good practice to always close the file when you are done with it.\n",
    "f = open(\"test.txt\", \"r\")\n",
    "print(f.readline())\n",
    "f.close()"
   ]
  },
  {
   "cell_type": "markdown",
   "id": "582b4588",
   "metadata": {},
   "source": [
    "## Writing to Files:"
   ]
  },
  {
   "cell_type": "code",
   "execution_count": null,
   "id": "b9f504cd",
   "metadata": {},
   "outputs": [],
   "source": [
    "# Opening a file for writing\n",
    "with open(\"test.txt\", \"w\") as file:\n",
    "    file.write(\"Hello, adding more content.\")\n",
    "\n",
    "# Appending to an existing file\n",
    "with open(\"test.txt\", \"a\") as file:\n",
    "    file.write(\"\\nAppending more content.\")"
   ]
  },
  {
   "cell_type": "code",
   "execution_count": null,
   "id": "93445a25",
   "metadata": {},
   "outputs": [],
   "source": [
    "# Opening a file for reading\n",
    "with open(\"test.txt\", \"r\") as file:\n",
    "    content = file.read()  # Read the entire file content\n",
    "\n",
    "print(content)"
   ]
  },
  {
   "cell_type": "markdown",
   "id": "c5e469af",
   "metadata": {},
   "source": [
    "### Create a New File"
   ]
  },
  {
   "cell_type": "code",
   "execution_count": 18,
   "id": "2ab0ea10",
   "metadata": {},
   "outputs": [],
   "source": [
    "f = open(\"myfile.txt\", \"x\")"
   ]
  },
  {
   "cell_type": "markdown",
   "id": "04b93aa5",
   "metadata": {},
   "source": [
    "### Python also supports different modes for opening files, including:"
   ]
  },
  {
   "cell_type": "markdown",
   "id": "7601868d",
   "metadata": {},
   "source": [
    "- \"r\": Read (default mode). Opens the file for reading.\n",
    "- \"w\": Write. Opens the file for writing, truncating the file if it already exists.\n",
    "- \"a\": Append. Opens the file for writing, but appends new content to the end of the file.\n",
    "- \"b\": Binary mode. For working with binary files, like images or videos.\n",
    "- \"x\": Exclusive creation. Opens the file for writing, but only if the file doesn't already exist."
   ]
  },
  {
   "cell_type": "code",
   "execution_count": null,
   "id": "6cb1862d",
   "metadata": {},
   "outputs": [],
   "source": []
  }
 ],
 "metadata": {
  "kernelspec": {
   "display_name": "Python 3 (ipykernel)",
   "language": "python",
   "name": "python3"
  },
  "language_info": {
   "codemirror_mode": {
    "name": "ipython",
    "version": 3
   },
   "file_extension": ".py",
   "mimetype": "text/x-python",
   "name": "python",
   "nbconvert_exporter": "python",
   "pygments_lexer": "ipython3",
   "version": "3.10.9"
  }
 },
 "nbformat": 4,
 "nbformat_minor": 5
}
