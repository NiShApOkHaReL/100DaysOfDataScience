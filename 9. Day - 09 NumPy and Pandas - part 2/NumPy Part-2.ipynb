{
 "cells": [
  {
   "cell_type": "markdown",
   "id": "9d4242b8",
   "metadata": {},
   "source": [
    "# Copy VS View"
   ]
  },
  {
   "cell_type": "code",
   "execution_count": 1,
   "id": "65871491",
   "metadata": {},
   "outputs": [],
   "source": [
    "import numpy as np"
   ]
  },
  {
   "cell_type": "code",
   "execution_count": 2,
   "id": "133aa80a",
   "metadata": {},
   "outputs": [
    {
     "name": "stdout",
     "output_type": "stream",
     "text": [
      "Var:  [ 1 40  3  4  5]\n",
      "\n",
      "Copied data:  [1 2 3 4 5]\n"
     ]
    }
   ],
   "source": [
    "var = np.array([1,2,3,4,5])\n",
    "\n",
    "co = var.copy()\n",
    "var[1] = 40\n",
    "print(\"Var: \",var)\n",
    "print()\n",
    "print(\"Copied data: \",co)"
   ]
  },
  {
   "cell_type": "code",
   "execution_count": 3,
   "id": "5465caaa",
   "metadata": {},
   "outputs": [
    {
     "name": "stdout",
     "output_type": "stream",
     "text": [
      "x:  [ 8 40 10 11 12]\n",
      "View:  [ 8 40 10 11 12]\n"
     ]
    }
   ],
   "source": [
    "x = np.array([8,9,10,11,12])\n",
    "\n",
    "vi = x.view()\n",
    "x[1]=40\n",
    "print(\"x: \",x)\n",
    "print(\"View: \",vi)"
   ]
  },
  {
   "cell_type": "markdown",
   "id": "16333e5f",
   "metadata": {},
   "source": [
    "- The main difference between a copy and a view of an array is that the copy is a new array, and the view is just a view of the original array."
   ]
  },
  {
   "cell_type": "markdown",
   "id": "f5269696",
   "metadata": {},
   "source": [
    "# Join Array"
   ]
  },
  {
   "cell_type": "code",
   "execution_count": 4,
   "id": "23e1d4ab",
   "metadata": {},
   "outputs": [
    {
     "name": "stdout",
     "output_type": "stream",
     "text": [
      "[ 1  2  3  4  5  6  7  8  9 10]\n"
     ]
    }
   ],
   "source": [
    "var1 = np.array([1,2,3,4,5])\n",
    "\n",
    "var2 = np.array([6,7,8,9,10])\n",
    "\n",
    "\n",
    "ar = np.concatenate((var1,var2))\n",
    "\n",
    "print(ar)"
   ]
  },
  {
   "cell_type": "code",
   "execution_count": 5,
   "id": "61c8f2d0",
   "metadata": {},
   "outputs": [
    {
     "name": "stdout",
     "output_type": "stream",
     "text": [
      "[[1 2]\n",
      " [3 4]]\n",
      "\n",
      "[[5 6]\n",
      " [7 8]]\n",
      "\n",
      "[[1 2 5 6]\n",
      " [3 4 7 8]]\n"
     ]
    }
   ],
   "source": [
    "var1 = np.array([[1,2],[3,4]])\n",
    "\n",
    "var2 = np.array([[5,6],[7,8]])\n",
    "\n",
    "ar = np.concatenate((var1,var2), axis =1) # Merging from row side\n",
    "print(var1)\n",
    "print()\n",
    "print(var2)\n",
    "print()\n",
    "print(ar)"
   ]
  },
  {
   "cell_type": "code",
   "execution_count": 6,
   "id": "eb7a2ffc",
   "metadata": {},
   "outputs": [
    {
     "name": "stdout",
     "output_type": "stream",
     "text": [
      "[[1 2]\n",
      " [3 4]]\n",
      "\n",
      "[[5 6]\n",
      " [7 8]]\n",
      "\n",
      "[[1 2]\n",
      " [3 4]\n",
      " [5 6]\n",
      " [7 8]]\n"
     ]
    }
   ],
   "source": [
    "var1 = np.array([[1,2],[3,4]])\n",
    "\n",
    "var2 = np.array([[5,6],[7,8]])\n",
    "\n",
    "ar = np.concatenate((var1,var2), axis =0) # Column merge\n",
    "print(var1)\n",
    "print()\n",
    "print(var2)\n",
    "print()\n",
    "print(ar)"
   ]
  },
  {
   "cell_type": "code",
   "execution_count": 7,
   "id": "f90ffc80",
   "metadata": {},
   "outputs": [
    {
     "name": "stdout",
     "output_type": "stream",
     "text": [
      "[[ 1  6]\n",
      " [ 2  7]\n",
      " [ 3  8]\n",
      " [ 4  9]\n",
      " [ 5 10]]\n"
     ]
    }
   ],
   "source": [
    "var_1 = np.array([1,2,3,4,5])\n",
    "\n",
    "var_2 = np.array([6,7,8,9,10])\n",
    "\n",
    "\n",
    "ar_new = np.stack((var_1,var_2), axis =1)\n",
    "\n",
    "print(ar_new)"
   ]
  },
  {
   "cell_type": "code",
   "execution_count": 8,
   "id": "6f9e692d",
   "metadata": {},
   "outputs": [
    {
     "name": "stdout",
     "output_type": "stream",
     "text": [
      "[ 1  2  3  4  5  6  7  8  9 10]\n",
      "\n",
      "[[ 1  2  3  4  5]\n",
      " [ 6  7  8  9 10]]\n",
      "\n",
      "[[[ 1  6]\n",
      "  [ 2  7]\n",
      "  [ 3  8]\n",
      "  [ 4  9]\n",
      "  [ 5 10]]]\n"
     ]
    }
   ],
   "source": [
    "var_1 = np.array([1,2,3,4,5])\n",
    "\n",
    "var_2 = np.array([6,7,8,9,10])\n",
    "\n",
    "\n",
    "ar_new1 = np.hstack((var_1,var_2)) #Merging along row\n",
    "print(ar_new1)\n",
    "print()\n",
    "ar_new2 = np.vstack((var_1,var_2)) #Merging along column\n",
    "print(ar_new2)\n",
    "print()\n",
    "ar_new3 = np.dstack((var_1,var_2)) #Merging along height\n",
    "print(ar_new3)\n"
   ]
  },
  {
   "cell_type": "markdown",
   "id": "b6c92ed8",
   "metadata": {},
   "source": [
    "# Split Array"
   ]
  },
  {
   "cell_type": "markdown",
   "id": "3fa2ba7d",
   "metadata": {},
   "source": [
    "- Splitting breaks one array into multiple"
   ]
  },
  {
   "cell_type": "code",
   "execution_count": 9,
   "id": "1257a8ca",
   "metadata": {},
   "outputs": [
    {
     "name": "stdout",
     "output_type": "stream",
     "text": [
      "[1 2 3 4 5]\n",
      "\n",
      "[array([1, 2]), array([3, 4]), array([5])]\n",
      "\n",
      "<class 'list'>\n",
      "[1 2]\n"
     ]
    }
   ],
   "source": [
    "var = np.array([1,2,3,4,5])\n",
    "\n",
    "print(var)\n",
    "ar = np.array_split(var,3)\n",
    "print()\n",
    "print(ar)\n",
    "print()\n",
    "print(type(ar))\n",
    "print(ar[0])"
   ]
  },
  {
   "cell_type": "code",
   "execution_count": 10,
   "id": "213e8a6f",
   "metadata": {},
   "outputs": [
    {
     "name": "stdout",
     "output_type": "stream",
     "text": [
      "[[1 2]\n",
      " [3 4]\n",
      " [5 6]\n",
      " [7 8]]\n",
      "\n",
      "[array([[1, 2],\n",
      "       [3, 4]]), array([[5, 6]]), array([[7, 8]])]\n",
      "\n",
      "[array([[1],\n",
      "       [3],\n",
      "       [5],\n",
      "       [7]]), array([[2],\n",
      "       [4],\n",
      "       [6],\n",
      "       [8]]), array([], shape=(4, 0), dtype=int32)]\n"
     ]
    }
   ],
   "source": [
    "var1 = np.array([[1,2],[3,4],[5,6],[7,8]])\n",
    "\n",
    "print(var1)\n",
    "\n",
    "ar1 = np.array_split(var1,3)\n",
    "ar2 = np.array_split(var1,3,axis = 1)\n",
    "print()\n",
    "print(ar1)\n",
    "print()\n",
    "print(ar2)"
   ]
  },
  {
   "cell_type": "markdown",
   "id": "83920bed",
   "metadata": {},
   "source": [
    "# NumPy Arrays Functions"
   ]
  },
  {
   "cell_type": "markdown",
   "id": "04722255",
   "metadata": {},
   "source": [
    "## Search Array"
   ]
  },
  {
   "cell_type": "markdown",
   "id": "2c12ca97",
   "metadata": {},
   "source": [
    "- Search an array for a certain value, and return the indexes that get a match."
   ]
  },
  {
   "cell_type": "code",
   "execution_count": 11,
   "id": "7a648116",
   "metadata": {},
   "outputs": [
    {
     "name": "stdout",
     "output_type": "stream",
     "text": [
      "(array([5, 9], dtype=int64),)\n",
      "\n",
      "(array([1, 3, 5, 6, 7, 8, 9], dtype=int64),)\n"
     ]
    }
   ],
   "source": [
    "var = np.array([1,4,3,4,5,2,6,4,8,2])\n",
    "\n",
    "x = np.where(var == 2)\n",
    "x1 = np.where((var % 2) == 0)\n",
    "print(x)\n",
    "print()\n",
    "print(x1)"
   ]
  },
  {
   "cell_type": "code",
   "execution_count": 12,
   "id": "e97d38f8",
   "metadata": {},
   "outputs": [
    {
     "name": "stdout",
     "output_type": "stream",
     "text": [
      "5\n"
     ]
    }
   ],
   "source": [
    "var = np.array([1,2,3,4,5,8,9])\n",
    "\n",
    "x1 = np.searchsorted(var, 7)\n",
    "\n",
    "print(x1)"
   ]
  },
  {
   "cell_type": "code",
   "execution_count": 13,
   "id": "0ade3975",
   "metadata": {},
   "outputs": [
    {
     "name": "stdout",
     "output_type": "stream",
     "text": [
      "5\n"
     ]
    }
   ],
   "source": [
    "var = np.array([1,2,3,4,5,8,9])\n",
    "\n",
    "x1 = np.searchsorted(var, 7,side=\"right\")\n",
    "\n",
    "print(x1)"
   ]
  },
  {
   "cell_type": "code",
   "execution_count": 14,
   "id": "09724a7d",
   "metadata": {},
   "outputs": [
    {
     "name": "stdout",
     "output_type": "stream",
     "text": [
      "[0 5 5]\n"
     ]
    }
   ],
   "source": [
    "var = np.array([1,2,3,4,5,8,9])\n",
    "\n",
    "x1 = np.searchsorted(var, [0,6,7],side=\"right\")\n",
    "\n",
    "print(x1)"
   ]
  },
  {
   "cell_type": "markdown",
   "id": "1627a74d",
   "metadata": {},
   "source": [
    "# Sort"
   ]
  },
  {
   "cell_type": "code",
   "execution_count": 15,
   "id": "45cf53e5",
   "metadata": {},
   "outputs": [
    {
     "name": "stdout",
     "output_type": "stream",
     "text": [
      "[ 4 11 12 34 54 67 97]\n"
     ]
    }
   ],
   "source": [
    "var = np.array([34,54,12,67,97,11,4])\n",
    "\n",
    "print(np.sort(var))"
   ]
  },
  {
   "cell_type": "code",
   "execution_count": 16,
   "id": "f69e6fca",
   "metadata": {},
   "outputs": [
    {
     "name": "stdout",
     "output_type": "stream",
     "text": [
      "['a' 'b' 'd']\n"
     ]
    }
   ],
   "source": [
    "var_1 = np.array([\"a\",\"d\",\"b\"])\n",
    "\n",
    "print(np.sort(var_1))"
   ]
  },
  {
   "cell_type": "code",
   "execution_count": 17,
   "id": "334a71c4",
   "metadata": {},
   "outputs": [
    {
     "name": "stdout",
     "output_type": "stream",
     "text": [
      "[[1 2 6]\n",
      " [1 2 7]]\n"
     ]
    }
   ],
   "source": [
    "var_2 = np.array([[2,6,1],[7,1,2]])\n",
    "\n",
    "print(np.sort(var_2))"
   ]
  },
  {
   "cell_type": "markdown",
   "id": "45029ed7",
   "metadata": {},
   "source": [
    "# Filter Array"
   ]
  },
  {
   "cell_type": "markdown",
   "id": "23b9da78",
   "metadata": {},
   "source": [
    "- Getting some elements out of an existing array and creating a new array out of them."
   ]
  },
  {
   "cell_type": "code",
   "execution_count": 18,
   "id": "4feabbd8",
   "metadata": {},
   "outputs": [
    {
     "name": "stdout",
     "output_type": "stream",
     "text": [
      "['a' 'd' 'n']\n",
      "<class 'numpy.ndarray'>\n"
     ]
    }
   ],
   "source": [
    "var_3 = np.array([\"a\",\"d\",\"b\",\"u\",\"n\"])\n",
    "\n",
    "f=[True, True, False, False,True]\n",
    "\n",
    "new_a = var_3[f]\n",
    "print(new_a)\n",
    "print(type(new_a))"
   ]
  },
  {
   "cell_type": "markdown",
   "id": "d65e7000",
   "metadata": {},
   "source": [
    "# Arithmetic function"
   ]
  },
  {
   "cell_type": "code",
   "execution_count": 19,
   "id": "8f2c9d02",
   "metadata": {},
   "outputs": [
    {
     "name": "stdout",
     "output_type": "stream",
     "text": [
      "[3 4 1 2 5]\n"
     ]
    }
   ],
   "source": [
    "var = np.array([1,2,3,4,5])\n",
    "\n",
    "np.random.shuffle(var)\n",
    "print(var)"
   ]
  },
  {
   "cell_type": "code",
   "execution_count": 20,
   "id": "0337180a",
   "metadata": {},
   "outputs": [
    {
     "name": "stdout",
     "output_type": "stream",
     "text": [
      "(array([1, 2, 3, 4, 5, 6, 8]), array([2, 3, 0, 1, 7, 5, 6], dtype=int64), array([1, 1, 2, 2, 1, 1, 1], dtype=int64))\n"
     ]
    }
   ],
   "source": [
    "var = np.array([3,4,1,2,4,6,8,5,3])\n",
    "va=np.unique(var, return_index=True,return_counts=True)\n",
    "print(va)"
   ]
  },
  {
   "cell_type": "code",
   "execution_count": 21,
   "id": "e3877f58",
   "metadata": {},
   "outputs": [
    {
     "name": "stdout",
     "output_type": "stream",
     "text": [
      "[[3 1 6]\n",
      " [4 3 6]]\n"
     ]
    }
   ],
   "source": [
    "var2 = np.array([3,1,6,4,3,6])\n",
    "\n",
    "y = np.resize(var2,(2,3))\n",
    "print(y)\n"
   ]
  },
  {
   "cell_type": "markdown",
   "id": "2a6f8a92",
   "metadata": {},
   "source": [
    "- Numpy flatten changes the shape of a Numpy array from a multi-dimensional array, to a 1-dimensional array."
   ]
  },
  {
   "cell_type": "code",
   "execution_count": 22,
   "id": "85d773a8",
   "metadata": {},
   "outputs": [
    {
     "name": "stdout",
     "output_type": "stream",
     "text": [
      "[[3 1 6]\n",
      " [4 3 6]]\n",
      "\n",
      "Flatten:  [3 4 1 3 6 6]\n",
      "\n",
      "Flatten:  [3 1 6 4 3 6]\n",
      "\n",
      "Ravel:  [3 4 1 3 6 6]\n"
     ]
    }
   ],
   "source": [
    "var2 = np.array([3,1,6,4,3,6])\n",
    "\n",
    "y = np.resize(var2,(2,3))\n",
    "print(y)\n",
    "print()\n",
    "# Order : {'C','F','A','K'}\n",
    "print(\"Flatten: \",y.flatten(order = \"F\")) # By default order =\"C\"\n",
    "print()\n",
    "print(\"Flatten: \",y.flatten())\n",
    "print()\n",
    "print(\"Ravel: \", np.ravel(y,order=\"F\"))\n"
   ]
  },
  {
   "cell_type": "markdown",
   "id": "28d11ba1",
   "metadata": {},
   "source": [
    "- Ravel is faster than flatten() as it does not occupy any memory. Flatten() is comparatively slower than ravel() as it occupies memory. "
   ]
  },
  {
   "cell_type": "markdown",
   "id": "0167cb27",
   "metadata": {},
   "source": [
    "# Insert "
   ]
  },
  {
   "cell_type": "code",
   "execution_count": 23,
   "id": "e1c1017a",
   "metadata": {},
   "outputs": [
    {
     "name": "stdout",
     "output_type": "stream",
     "text": [
      "[1 2 3 4 5 6]\n",
      "\n",
      "[0 1 2 3 4 5 6]\n",
      "\n",
      "[ 1  2  3 30  4  5 30  6]\n"
     ]
    }
   ],
   "source": [
    "var = np.array([1,2,3,4,5,6])\n",
    "\n",
    "print(var)\n",
    "print()\n",
    "v = np.insert(var,0,0) #inserting 0 in 0th index(varname, index,value)\n",
    "print(v)\n",
    "print()\n",
    "v1 = np.insert(var,(3,5),30) #it doesn't accept float values\n",
    "print(v1)"
   ]
  },
  {
   "cell_type": "code",
   "execution_count": 24,
   "id": "f9e37dd2",
   "metadata": {},
   "outputs": [
    {
     "name": "stdout",
     "output_type": "stream",
     "text": [
      "[[1 2 7 3]\n",
      " [4 5 7 6]]\n",
      "\n",
      "[[1 2 3]\n",
      " [4 5 6]\n",
      " [7 7 7]]\n"
     ]
    }
   ],
   "source": [
    "var1 = np.array([[1,2,3],[4,5,6]])\n",
    "\n",
    "v1 = np.insert(var1,2,7,axis=1)\n",
    "v2 = np.insert(var1,2,7,axis=0)\n",
    "print(v1)\n",
    "print()\n",
    "print(v2)"
   ]
  },
  {
   "cell_type": "code",
   "execution_count": 25,
   "id": "69994300",
   "metadata": {},
   "outputs": [
    {
     "name": "stdout",
     "output_type": "stream",
     "text": [
      "[[1 2 3]\n",
      " [4 5 6]\n",
      " [7 8 9]]\n"
     ]
    }
   ],
   "source": [
    "var1 = np.array([[1,2,3],[4,5,6]])\n",
    "\n",
    "v1 = np.insert(var1,2,[7,8,9],axis=0)\n",
    "\n",
    "print(v1)\n"
   ]
  },
  {
   "cell_type": "code",
   "execution_count": 26,
   "id": "b32661c6",
   "metadata": {},
   "outputs": [
    {
     "name": "stdout",
     "output_type": "stream",
     "text": [
      "[1 2 3 4 5]\n",
      "[1.  2.  3.  4.  5.  6.4]\n"
     ]
    }
   ],
   "source": [
    "var = np.array([1,2,3,4,5])\n",
    "\n",
    "print(var)\n",
    "\n",
    "x = np.append(var,6.4)\n",
    "print(x)"
   ]
  },
  {
   "cell_type": "code",
   "execution_count": 27,
   "id": "b3fa4ec7",
   "metadata": {},
   "outputs": [
    {
     "name": "stdout",
     "output_type": "stream",
     "text": [
      "[[1 2 3 4]\n",
      " [5 6 7 8]]\n",
      "\n",
      "[[ 1  2  3  4]\n",
      " [ 5  6  7  8]\n",
      " [ 9 10 11 12]]\n"
     ]
    }
   ],
   "source": [
    "var = np.array([[1,2,3,4],[5,6,7,8]])\n",
    "\n",
    "print(var)\n",
    "print()\n",
    "x = np.append(var,[[9,10,11,12]], axis=0)\n",
    "print(x)"
   ]
  },
  {
   "cell_type": "markdown",
   "id": "106210f9",
   "metadata": {},
   "source": [
    "# Delete"
   ]
  },
  {
   "cell_type": "code",
   "execution_count": 28,
   "id": "aa4309e1",
   "metadata": {},
   "outputs": [
    {
     "name": "stdout",
     "output_type": "stream",
     "text": [
      "[1 2 3 4 5]\n",
      "[1 2 4 5]\n"
     ]
    }
   ],
   "source": [
    "var1 = np.array([1,2,3,4,5])\n",
    "\n",
    "print(var1)\n",
    "\n",
    "d = np.delete(var1,2)\n",
    "\n",
    "print(d)"
   ]
  },
  {
   "cell_type": "markdown",
   "id": "ebc73f85",
   "metadata": {},
   "source": [
    "# Matrix"
   ]
  },
  {
   "cell_type": "code",
   "execution_count": 29,
   "id": "77f781f8",
   "metadata": {},
   "outputs": [
    {
     "name": "stdout",
     "output_type": "stream",
     "text": [
      "[[1 2 3]\n",
      " [4 5 6]]\n",
      "<class 'numpy.matrix'>\n"
     ]
    }
   ],
   "source": [
    "var = np.matrix([[1,2,3],[4,5,6]])\n",
    "\n",
    "print(var)\n",
    "print(type(var))"
   ]
  },
  {
   "cell_type": "code",
   "execution_count": 30,
   "id": "aa8a0259",
   "metadata": {},
   "outputs": [
    {
     "name": "stdout",
     "output_type": "stream",
     "text": [
      "[1 2 3 4 5]\n",
      "<class 'numpy.ndarray'>\n"
     ]
    }
   ],
   "source": [
    "va1 = np.array([[1,2,3],[4,5,6]])\n",
    "\n",
    "print(var1)\n",
    "print(type(var1))"
   ]
  },
  {
   "cell_type": "code",
   "execution_count": 31,
   "id": "dcb3516f",
   "metadata": {},
   "outputs": [
    {
     "name": "stdout",
     "output_type": "stream",
     "text": [
      "[[10  8  7]\n",
      " [ 5  8 11]\n",
      " [ 6 11 16]]\n",
      "\n",
      "[[-8 -4 -1]\n",
      " [ 3  2  1]\n",
      " [-2  5  2]]\n",
      "\n",
      "Array Mul: \n",
      "[[ 9 12 12]\n",
      " [ 4 15 30]\n",
      " [ 8 24 63]]\n",
      "\n",
      "Matrix Mul: \n",
      "[[41 80 99]\n",
      " [23 57 66]\n",
      " [30 79 93]]\n"
     ]
    }
   ],
   "source": [
    "var2 = np.array([[1,2,3],[4,5,6],[2,8,9]])\n",
    "var3 = np.array([[9,6,4],[1,3,5],[4,3,7]])\n",
    "\n",
    "print(var2+var3)\n",
    "print()\n",
    "print(var2-var3)\n",
    "print()\n",
    "print(\"Array Mul: \")\n",
    "print(var2*var3)\n",
    "print()\n",
    "print(\"Matrix Mul: \")\n",
    "print(var3.dot(var2))"
   ]
  },
  {
   "cell_type": "markdown",
   "id": "c4f615e4",
   "metadata": {},
   "source": [
    "# Matrix Function"
   ]
  },
  {
   "cell_type": "code",
   "execution_count": 32,
   "id": "7d3d0484",
   "metadata": {},
   "outputs": [
    {
     "name": "stdout",
     "output_type": "stream",
     "text": [
      "[[1 2 3]\n",
      " [4 5 6]]\n",
      "\n",
      "[[1 4]\n",
      " [2 5]\n",
      " [3 6]]\n",
      "\n",
      "[[1 4]\n",
      " [2 5]\n",
      " [3 6]]\n",
      "\n",
      "[[1 4]\n",
      " [2 5]\n",
      " [3 6]]\n"
     ]
    }
   ],
   "source": [
    "var = np.matrix([[1,2,3],[4,5,6]])\n",
    "print(var)\n",
    "print()\n",
    "\n",
    "print(np.transpose(var))\n",
    "print()\n",
    "print(var.T)\n",
    "print()\n",
    "print(np.swapaxes(var,0,1))"
   ]
  },
  {
   "cell_type": "code",
   "execution_count": 33,
   "id": "a752c72f",
   "metadata": {},
   "outputs": [
    {
     "name": "stdout",
     "output_type": "stream",
     "text": [
      "[[1 2]\n",
      " [3 4]]\n",
      "\n",
      "[[1 3]\n",
      " [2 4]]\n"
     ]
    }
   ],
   "source": [
    "var2 = np.matrix([[1,2],[3,4]])\n",
    "print(var2)\n",
    "print()\n",
    "print(np.swapaxes(var2,0,1))"
   ]
  },
  {
   "cell_type": "code",
   "execution_count": 34,
   "id": "975d7932",
   "metadata": {},
   "outputs": [
    {
     "name": "stdout",
     "output_type": "stream",
     "text": [
      "[[1 2]\n",
      " [3 4]]\n",
      "\n",
      "[[-2.   1. ]\n",
      " [ 1.5 -0.5]]\n"
     ]
    }
   ],
   "source": [
    "var3 = np.matrix([[1,2],[3,4]])\n",
    "print(var3)\n",
    "print()\n",
    "\n",
    "print(np.linalg.inv(var3))"
   ]
  },
  {
   "cell_type": "code",
   "execution_count": 35,
   "id": "f9b7166f",
   "metadata": {},
   "outputs": [
    {
     "name": "stdout",
     "output_type": "stream",
     "text": [
      "[[1 2]\n",
      " [3 4]]\n",
      "\n",
      "[[ 7 10]\n",
      " [15 22]]\n",
      "\n",
      "[[1 0]\n",
      " [0 1]]\n",
      "\n",
      "[[ 5.5  -2.5 ]\n",
      " [-3.75  1.75]]\n",
      "\n"
     ]
    }
   ],
   "source": [
    "var4 = np.matrix([[1,2],[3,4]])\n",
    "\n",
    "print(var4)\n",
    "print()\n",
    "\n",
    "print(np.linalg.matrix_power(var4,2))\n",
    "print()\n",
    "\n",
    "print(np.linalg.matrix_power(var4,0))\n",
    "print()\n",
    "\n",
    "print(np.linalg.matrix_power(var4,-2))\n",
    "print()"
   ]
  },
  {
   "cell_type": "code",
   "execution_count": 36,
   "id": "12e49d61",
   "metadata": {},
   "outputs": [
    {
     "name": "stdout",
     "output_type": "stream",
     "text": [
      "[[1 2 3]\n",
      " [4 2 7]\n",
      " [7 9 3]]\n",
      "\n",
      "83.00000000000003\n"
     ]
    }
   ],
   "source": [
    "var5 = np.matrix([[1,2,3],[4,2,7],[7,9,3]])\n",
    "print(var5)\n",
    "print()\n",
    "print(np.linalg.det(var5))"
   ]
  },
  {
   "cell_type": "code",
   "execution_count": null,
   "id": "2dcf0437",
   "metadata": {},
   "outputs": [],
   "source": []
  }
 ],
 "metadata": {
  "kernelspec": {
   "display_name": "Python 3 (ipykernel)",
   "language": "python",
   "name": "python3"
  },
  "language_info": {
   "codemirror_mode": {
    "name": "ipython",
    "version": 3
   },
   "file_extension": ".py",
   "mimetype": "text/x-python",
   "name": "python",
   "nbconvert_exporter": "python",
   "pygments_lexer": "ipython3",
   "version": "3.10.9"
  }
 },
 "nbformat": 4,
 "nbformat_minor": 5
}
