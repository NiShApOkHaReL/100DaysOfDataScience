{
 "cells": [
  {
   "cell_type": "markdown",
   "id": "b21d610c",
   "metadata": {},
   "source": [
    "# Exception"
   ]
  },
  {
   "cell_type": "markdown",
   "id": "2cdae2b1",
   "metadata": {},
   "source": [
    "- An error is an issue in a program that prevents the program from completing its task. In comparison, an exception is a condition that interrupts the normal flow of the program. Both errors and exceptions are a type of runtime error, which means they occur during the execution of a program."
   ]
  },
  {
   "cell_type": "code",
   "execution_count": 1,
   "id": "cf25e996",
   "metadata": {},
   "outputs": [
    {
     "name": "stdout",
     "output_type": "stream",
     "text": [
      "Some problem may have occured\n"
     ]
    }
   ],
   "source": [
    "## Exception\n",
    "try:\n",
    "    ## code block where exception can occur\n",
    "    a = b\n",
    "except:\n",
    "    print(\"Some problem may have occured\")"
   ]
  },
  {
   "cell_type": "code",
   "execution_count": 2,
   "id": "4594c93a",
   "metadata": {},
   "outputs": [
    {
     "name": "stdout",
     "output_type": "stream",
     "text": [
      "name 'b' is not defined\n"
     ]
    }
   ],
   "source": [
    "try:\n",
    "    ## code block where exception can occur\n",
    "    a = b\n",
    "except Exception as ex:\n",
    "    print(ex)"
   ]
  },
  {
   "cell_type": "code",
   "execution_count": 3,
   "id": "d461f796",
   "metadata": {},
   "outputs": [
    {
     "name": "stdout",
     "output_type": "stream",
     "text": [
      "THe user have not defined the variable\n"
     ]
    }
   ],
   "source": [
    "try:\n",
    "    ## code block where exception can occur\n",
    "    a = b\n",
    "except NameError as ex1:\n",
    "    print(\"THe user have not defined the variable\")\n",
    "except Exception as ex:\n",
    "    print(ex)"
   ]
  },
  {
   "cell_type": "code",
   "execution_count": 4,
   "id": "ba7f41fc",
   "metadata": {},
   "outputs": [
    {
     "name": "stdout",
     "output_type": "stream",
     "text": [
      "unsupported operand type(s) for +: 'int' and 'str'\n"
     ]
    }
   ],
   "source": [
    "try:\n",
    "    ## code block where exception can occur\n",
    "    a = 1\n",
    "    b = \"S\"\n",
    "    c = a+b\n",
    "except NameError as ex1:\n",
    "    print(\"THe user have not defined the variable\")\n",
    "except Exception as ex:\n",
    "    print(ex)"
   ]
  },
  {
   "cell_type": "code",
   "execution_count": 5,
   "id": "7d86e7a5",
   "metadata": {},
   "outputs": [
    {
     "name": "stdout",
     "output_type": "stream",
     "text": [
      "Try to make the datatype similar\n"
     ]
    }
   ],
   "source": [
    "try:\n",
    "    ## code block where exception can occur\n",
    "    a = 1\n",
    "    b = \"S\"\n",
    "    c = a+b\n",
    "except NameError:\n",
    "    print(\"THe user have not defined the variable\")\n",
    "except TypeError:\n",
    "    print(\"Try to make the datatype similar\")\n",
    "except Exception as ex:\n",
    "    print(ex)"
   ]
  },
  {
   "cell_type": "code",
   "execution_count": 6,
   "id": "3ef3e4df",
   "metadata": {},
   "outputs": [
    {
     "name": "stdout",
     "output_type": "stream",
     "text": [
      "Enter the number 1 60\n",
      "Enter the number 2 0\n",
      "division by zero\n"
     ]
    }
   ],
   "source": [
    "try:\n",
    "    ## code block where exception can occur\n",
    "    a = int(input(\"Enter the number 1 \"))\n",
    "    b = int(input(\"Enter the number 2 \"))\n",
    "    c = a/b\n",
    "    d = a*b\n",
    "    e = a+b\n",
    "    print(c)\n",
    "    print(d)\n",
    "    print(e)\n",
    "except NameError:\n",
    "    print(\"THe user have not defined the variable\")\n",
    "except TypeError:\n",
    "    print(\"Try to make the datatype similar\")\n",
    "except Exception as ex:\n",
    "    print(ex)"
   ]
  },
  {
   "cell_type": "code",
   "execution_count": 7,
   "id": "33e0009a",
   "metadata": {},
   "outputs": [
    {
     "name": "stdout",
     "output_type": "stream",
     "text": [
      "Enter the number 1: 45\n",
      "Enter the number 2: 8\n",
      "5.625\n",
      "360\n",
      "53\n"
     ]
    }
   ],
   "source": [
    "try:\n",
    "    ## code block where exception can occur\n",
    "    a = int(input(\"Enter the number 1: \"))\n",
    "    b = int(input(\"Enter the number 2: \"))\n",
    "    c = a/b\n",
    "    d = a*b\n",
    "    e = a+b\n",
    "    print(c)\n",
    "    print(d)\n",
    "    print(e)\n",
    "except ZeroDivisionError:\n",
    "    print(\"Please provide number greater than 0\")\n",
    "except NameError:\n",
    "    print(\"THe user have not defined the variable\")\n",
    "except TypeError:\n",
    "    print(\"Try to make the datatype similar\")\n",
    "except Exception as ex: ## This is generic exception, which handles any exception.\n",
    "    print(ex)         ## Generic block should be written at the end of the exception"
   ]
  },
  {
   "cell_type": "code",
   "execution_count": 8,
   "id": "7de7d1bd",
   "metadata": {},
   "outputs": [
    {
     "name": "stdout",
     "output_type": "stream",
     "text": [
      "Enter the number 1: 34\n",
      "Enter the number 2: 0\n",
      "Please provide number greater than 0\n"
     ]
    }
   ],
   "source": [
    "## Try else\n",
    "try:\n",
    "    ## code block where exception can occur\n",
    "    a = int(input(\"Enter the number 1: \"))\n",
    "    b = int(input(\"Enter the number 2: \"))\n",
    "    c = a/b\n",
    "    d = a*b\n",
    "    e = a+b\n",
    "except ZeroDivisionError:\n",
    "    print(\"Please provide number greater than 0\")\n",
    "except NameError:\n",
    "    print(\"THe user have not defined the variable\")\n",
    "except TypeError:\n",
    "    print(\"Try to make the datatype similar\")\n",
    "except Exception as ex: \n",
    "    print(ex) \n",
    "else:\n",
    "     print(c)\n",
    "     print(d)\n",
    "     print(e)\n",
    "    "
   ]
  },
  {
   "cell_type": "code",
   "execution_count": 9,
   "id": "51187142",
   "metadata": {},
   "outputs": [
    {
     "name": "stdout",
     "output_type": "stream",
     "text": [
      "Enter the number 1: 33\n",
      "Enter the number 2: 0\n",
      "Please provide number greater than 0\n",
      "The execution is done!\n"
     ]
    }
   ],
   "source": [
    "try:   \n",
    "    ## code block where exception can occur\n",
    "    a = int(input(\"Enter the number 1: \"))\n",
    "    b = int(input(\"Enter the number 2: \"))\n",
    "    c = a/b\n",
    "except ZeroDivisionError:\n",
    "    print(\"Please provide number greater than 0\")\n",
    "except NameError:\n",
    "    print(\"THe user have not defined the variable\")\n",
    "except TypeError:\n",
    "    print(\"Try to make the datatype similar\")\n",
    "except Exception as ex: \n",
    "    print(ex) \n",
    "else:\n",
    "     print(c)\n",
    "finally:\n",
    "    print(\"The execution is done!\")\n",
    "    "
   ]
  },
  {
   "cell_type": "markdown",
   "id": "680ee42e",
   "metadata": {},
   "source": [
    "# Custom Exception"
   ]
  },
  {
   "cell_type": "markdown",
   "id": "b0451d99",
   "metadata": {},
   "source": [
    "- Custom exceptions are used to customize the exception according to user needs."
   ]
  },
  {
   "cell_type": "code",
   "execution_count": 10,
   "id": "21357de5",
   "metadata": {},
   "outputs": [],
   "source": [
    "class Error(Exception):\n",
    "    pass\n",
    "\n",
    "class dobException(Error):\n",
    "    pass\n",
    "\n",
    "class custom(Error):\n",
    "    pass"
   ]
  },
  {
   "cell_type": "code",
   "execution_count": 11,
   "id": "1e3dd144",
   "metadata": {},
   "outputs": [
    {
     "name": "stdout",
     "output_type": "stream",
     "text": [
      "Enter the year of Birth 1999\n",
      "The age is valid. You can apply for the job.\n"
     ]
    }
   ],
   "source": [
    "year = int(input(\"Enter the year of Birth \"))\n",
    "age = 2023 - year\n",
    "try:\n",
    "    if age<=30 & age>20:\n",
    "        print(\"The age is valid. You can apply for the job.\")\n",
    "    else:\n",
    "        raise dobException\n",
    "except dobException:\n",
    "    print(\"THe age is not withing the range\")"
   ]
  },
  {
   "cell_type": "markdown",
   "id": "48a7cd99",
   "metadata": {},
   "source": [
    "# Python OOPS - Inheritance"
   ]
  },
  {
   "cell_type": "markdown",
   "id": "1c4b3f2b",
   "metadata": {},
   "source": [
    "- Inheritance allows us to define a class that inherits all the methods and properties from another class."
   ]
  },
  {
   "cell_type": "code",
   "execution_count": 12,
   "id": "07ea653d",
   "metadata": {},
   "outputs": [],
   "source": [
    "## All the class variable are public\n",
    "## BluePrint\n",
    "class Car():\n",
    "    def __init__(self, windows, doors, enginetype):\n",
    "        self.windows = windows # By default it is public variable\n",
    "        self.doors = doors # private is defined by self.__doors\n",
    "        self.enginetype = enginetype # Protected by self._doors\n",
    "    def drive(self):\n",
    "        print(\"The Person drive the car\")"
   ]
  },
  {
   "cell_type": "code",
   "execution_count": 13,
   "id": "6cbbe5d4",
   "metadata": {},
   "outputs": [
    {
     "data": {
      "text/plain": [
       "4"
      ]
     },
     "execution_count": 13,
     "metadata": {},
     "output_type": "execute_result"
    }
   ],
   "source": [
    "car = Car(4,5,\"diesel\")\n",
    "car.windows"
   ]
  },
  {
   "cell_type": "code",
   "execution_count": 14,
   "id": "0cf255ed",
   "metadata": {},
   "outputs": [
    {
     "data": {
      "text/plain": [
       "['Car',\n",
       " 'Error',\n",
       " 'In',\n",
       " 'Out',\n",
       " '_',\n",
       " '_13',\n",
       " '__',\n",
       " '___',\n",
       " '__builtin__',\n",
       " '__builtins__',\n",
       " '__doc__',\n",
       " '__loader__',\n",
       " '__name__',\n",
       " '__package__',\n",
       " '__spec__',\n",
       " '_dh',\n",
       " '_i',\n",
       " '_i1',\n",
       " '_i10',\n",
       " '_i11',\n",
       " '_i12',\n",
       " '_i13',\n",
       " '_i14',\n",
       " '_i2',\n",
       " '_i3',\n",
       " '_i4',\n",
       " '_i5',\n",
       " '_i6',\n",
       " '_i7',\n",
       " '_i8',\n",
       " '_i9',\n",
       " '_ih',\n",
       " '_ii',\n",
       " '_iii',\n",
       " '_oh',\n",
       " 'a',\n",
       " 'age',\n",
       " 'b',\n",
       " 'c',\n",
       " 'car',\n",
       " 'custom',\n",
       " 'd',\n",
       " 'dobException',\n",
       " 'e',\n",
       " 'exit',\n",
       " 'get_ipython',\n",
       " 'open',\n",
       " 'quit',\n",
       " 'year']"
      ]
     },
     "execution_count": 14,
     "metadata": {},
     "output_type": "execute_result"
    }
   ],
   "source": [
    "dir()"
   ]
  },
  {
   "cell_type": "code",
   "execution_count": 15,
   "id": "126f29b5",
   "metadata": {},
   "outputs": [
    {
     "data": {
      "text/plain": [
       "'diesel'"
      ]
     },
     "execution_count": 15,
     "metadata": {},
     "output_type": "execute_result"
    }
   ],
   "source": [
    "car.enginetype"
   ]
  },
  {
   "cell_type": "markdown",
   "id": "db454635",
   "metadata": {},
   "source": [
    "# The super() Function"
   ]
  },
  {
   "cell_type": "markdown",
   "id": "bb2a4bed",
   "metadata": {},
   "source": [
    "- Python also has a super() function that will make the child class inherit all the methods and properties from its parent:"
   ]
  },
  {
   "cell_type": "code",
   "execution_count": 16,
   "id": "d738e198",
   "metadata": {},
   "outputs": [],
   "source": [
    "class audi(Car):\n",
    "    def __init__(self, windows, doors,enginetype, enableai):\n",
    "       super().__init__(windows, doors, enginetype)\n",
    "       self.enableai = enableai\n",
    "    def selfdriving(self):\n",
    "        print(\"Audit supports Self driving\")"
   ]
  },
  {
   "cell_type": "code",
   "execution_count": 17,
   "id": "6268f642",
   "metadata": {},
   "outputs": [],
   "source": [
    "audiQ7 = audi(4,5,\"diesel\",True)"
   ]
  },
  {
   "cell_type": "code",
   "execution_count": 18,
   "id": "ab4dcb14",
   "metadata": {},
   "outputs": [
    {
     "data": {
      "text/plain": [
       "['__class__',\n",
       " '__delattr__',\n",
       " '__dict__',\n",
       " '__dir__',\n",
       " '__doc__',\n",
       " '__eq__',\n",
       " '__format__',\n",
       " '__ge__',\n",
       " '__getattribute__',\n",
       " '__gt__',\n",
       " '__hash__',\n",
       " '__init__',\n",
       " '__init_subclass__',\n",
       " '__le__',\n",
       " '__lt__',\n",
       " '__module__',\n",
       " '__ne__',\n",
       " '__new__',\n",
       " '__reduce__',\n",
       " '__reduce_ex__',\n",
       " '__repr__',\n",
       " '__setattr__',\n",
       " '__sizeof__',\n",
       " '__str__',\n",
       " '__subclasshook__',\n",
       " '__weakref__',\n",
       " 'doors',\n",
       " 'drive',\n",
       " 'enableai',\n",
       " 'enginetype',\n",
       " 'selfdriving',\n",
       " 'windows']"
      ]
     },
     "execution_count": 18,
     "metadata": {},
     "output_type": "execute_result"
    }
   ],
   "source": [
    "dir(audiQ7)"
   ]
  },
  {
   "cell_type": "code",
   "execution_count": 19,
   "id": "025ef67f",
   "metadata": {},
   "outputs": [
    {
     "data": {
      "text/plain": [
       "4"
      ]
     },
     "execution_count": 19,
     "metadata": {},
     "output_type": "execute_result"
    }
   ],
   "source": [
    "audiQ7.windows"
   ]
  },
  {
   "cell_type": "code",
   "execution_count": 20,
   "id": "0c1edbfa",
   "metadata": {},
   "outputs": [
    {
     "data": {
      "text/plain": [
       "True"
      ]
     },
     "execution_count": 20,
     "metadata": {},
     "output_type": "execute_result"
    }
   ],
   "source": [
    "audiQ7.enableai"
   ]
  },
  {
   "cell_type": "code",
   "execution_count": 23,
   "id": "d01ce6f3",
   "metadata": {},
   "outputs": [
    {
     "name": "stdout",
     "output_type": "stream",
     "text": [
      "Welcome Nisha Pokharel to the class of 2024\n"
     ]
    }
   ],
   "source": [
    "class Person:\n",
    "  def __init__(self, fname, lname):\n",
    "    self.firstname = fname\n",
    "    self.lastname = lname\n",
    "\n",
    "  def printname(self):\n",
    "    print(self.firstname, self.lastname)\n",
    "\n",
    "class Student(Person):\n",
    "  def __init__(self, fname, lname, year):\n",
    "    super().__init__(fname, lname)\n",
    "    self.graduationyear = year\n",
    "\n",
    "  def welcome(self):\n",
    "    print(\"Welcome\", self.firstname, self.lastname, \"to the class of\", self.graduationyear)\n",
    "\n",
    "x = Student(\"Nisha\", \"Pokharel\", 2024)\n",
    "x.welcome()"
   ]
  },
  {
   "cell_type": "code",
   "execution_count": null,
   "id": "7e4ecbb2",
   "metadata": {},
   "outputs": [],
   "source": []
  }
 ],
 "metadata": {
  "kernelspec": {
   "display_name": "Python 3 (ipykernel)",
   "language": "python",
   "name": "python3"
  },
  "language_info": {
   "codemirror_mode": {
    "name": "ipython",
    "version": 3
   },
   "file_extension": ".py",
   "mimetype": "text/x-python",
   "name": "python",
   "nbconvert_exporter": "python",
   "pygments_lexer": "ipython3",
   "version": "3.10.9"
  }
 },
 "nbformat": 4,
 "nbformat_minor": 5
}
