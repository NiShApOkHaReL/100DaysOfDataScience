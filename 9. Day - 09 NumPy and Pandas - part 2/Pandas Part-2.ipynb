{
 "cells": [
  {
   "cell_type": "markdown",
   "id": "ec2e47a5",
   "metadata": {},
   "source": [
    "# Python Pandas Working with JSON"
   ]
  },
  {
   "cell_type": "markdown",
   "id": "f8b34e6e",
   "metadata": {},
   "source": [
    "1. read Json(read_json)\n",
    "2. To Json(to_json)\n",
    "3. Json Normalize"
   ]
  },
  {
   "cell_type": "code",
   "execution_count": null,
   "id": "de4e5590",
   "metadata": {},
   "outputs": [],
   "source": []
  }
 ],
 "metadata": {
  "kernelspec": {
   "display_name": "Python 3 (ipykernel)",
   "language": "python",
   "name": "python3"
  },
  "language_info": {
   "codemirror_mode": {
    "name": "ipython",
    "version": 3
   },
   "file_extension": ".py",
   "mimetype": "text/x-python",
   "name": "python",
   "nbconvert_exporter": "python",
   "pygments_lexer": "ipython3",
   "version": "3.10.9"
  }
 },
 "nbformat": 4,
 "nbformat_minor": 5
}
