{
 "cells": [
  {
   "cell_type": "markdown",
   "id": "ae0cec1e",
   "metadata": {},
   "source": [
    "# Map() Function"
   ]
  },
  {
   "cell_type": "markdown",
   "id": "70c008b6",
   "metadata": {},
   "source": [
    "- map() function returns a map object(which is an iterator) of the results after applying the given function to each item of a given iterable (list, tuple etc.)"
   ]
  },
  {
   "cell_type": "code",
   "execution_count": 1,
   "id": "869d4808",
   "metadata": {},
   "outputs": [
    {
     "name": "stdout",
     "output_type": "stream",
     "text": [
      "[1, 4, 9, 16, 25]\n"
     ]
    }
   ],
   "source": [
    "def square(x):\n",
    "    return x*x\n",
    "numbers = [1,2,3,4,5]\n",
    "result = map(square, numbers)\n",
    "print(list(result))"
   ]
  },
  {
   "cell_type": "code",
   "execution_count": 2,
   "id": "c25a8a77",
   "metadata": {},
   "outputs": [
    {
     "name": "stdout",
     "output_type": "stream",
     "text": [
      "[1, 4, 9, 16, 25]\n"
     ]
    }
   ],
   "source": [
    "# Double all numbers using map and lambda\n",
    "numbers = [1,2,3,4,5]\n",
    "result = map(lambda x: x * x, numbers)\n",
    "print(list(result))"
   ]
  },
  {
   "cell_type": "code",
   "execution_count": 3,
   "id": "5bdb919a",
   "metadata": {},
   "outputs": [
    {
     "name": "stdout",
     "output_type": "stream",
     "text": [
      "[7, 9, 11, 13, 15]\n"
     ]
    }
   ],
   "source": [
    "# Adding two lists using map and lambda\n",
    "\n",
    "a = [1,2,3,4,5]\n",
    "b = [6,7,8,9,10]\n",
    "\n",
    "result = map(lambda x,y: x+y, a, b)\n",
    "print(list(result))"
   ]
  },
  {
   "cell_type": "code",
   "execution_count": 4,
   "id": "d732d6fd",
   "metadata": {},
   "outputs": [
    {
     "name": "stdout",
     "output_type": "stream",
     "text": [
      "[['N', 'i', 's', 'h', 'a'], ['G', 'a', 'r', 'i', 'm', 'a']]\n"
     ]
    }
   ],
   "source": [
    "a = ['Nisha', 'Garima']\n",
    "# map() can listify the list of strings individually\n",
    "result = list(map(list,a))\n",
    "print(result)"
   ]
  },
  {
   "cell_type": "code",
   "execution_count": 5,
   "id": "b9681e14",
   "metadata": {},
   "outputs": [
    {
     "name": "stdout",
     "output_type": "stream",
     "text": [
      "[1, 4, 3, 8, 5, 12, 7, 16, 9]\n"
     ]
    }
   ],
   "source": [
    "# Define a function that doubles even numbers and leaves odd numbers as it is\n",
    "def double(x):\n",
    "    if (x%2 == 0):\n",
    "        return x*2\n",
    "    else:\n",
    "        return x\n",
    "l1 = (1,2,3,4,5,6,7,8,9)\n",
    "result = list(map(double,l1))\n",
    "print(result)"
   ]
  },
  {
   "cell_type": "markdown",
   "id": "3b7d8e6b",
   "metadata": {},
   "source": [
    "# Filter Function"
   ]
  },
  {
   "cell_type": "code",
   "execution_count": 6,
   "id": "e4ae0eb3",
   "metadata": {},
   "outputs": [
    {
     "name": "stdout",
     "output_type": "stream",
     "text": [
      "[2, 4, 6, 8]\n"
     ]
    }
   ],
   "source": [
    "def even(num):\n",
    "    if num%2==0:\n",
    "        return True\n",
    "\n",
    "lst = [1,2,3,4,5,6,7,8,9]\n",
    "result = list(filter(even,lst))\n",
    "print(result)"
   ]
  },
  {
   "cell_type": "code",
   "execution_count": 7,
   "id": "f6285679",
   "metadata": {},
   "outputs": [
    {
     "data": {
      "text/plain": [
       "[10, 12, 14, 16, 18]"
      ]
     },
     "execution_count": 7,
     "metadata": {},
     "output_type": "execute_result"
    }
   ],
   "source": [
    "lst1 = [10,11,12,13,14,15,16,17,18,19]\n",
    "list(filter(lambda x:x%2==0,lst1))"
   ]
  },
  {
   "cell_type": "code",
   "execution_count": 8,
   "id": "78579aa6",
   "metadata": {},
   "outputs": [
    {
     "data": {
      "text/plain": [
       "[True, False, True, False, True, False, True, False, True, False]"
      ]
     },
     "execution_count": 8,
     "metadata": {},
     "output_type": "execute_result"
    }
   ],
   "source": [
    "list(map(lambda x:x%2==0,lst1))"
   ]
  },
  {
   "cell_type": "markdown",
   "id": "4cab073a",
   "metadata": {},
   "source": [
    "# Python Arrays"
   ]
  },
  {
   "cell_type": "markdown",
   "id": "ee1b39a2",
   "metadata": {},
   "source": [
    "- Python does not have built-in support for Arrays, but Python Lists can be used instead."
   ]
  },
  {
   "cell_type": "code",
   "execution_count": 9,
   "id": "82b17a6c",
   "metadata": {},
   "outputs": [
    {
     "name": "stdout",
     "output_type": "stream",
     "text": [
      "Apple\n"
     ]
    }
   ],
   "source": [
    "fruits = [\"Apple\", \"Orange\", \"Mango\"]\n",
    "print(fruits[0])"
   ]
  },
  {
   "cell_type": "code",
   "execution_count": 10,
   "id": "c030b489",
   "metadata": {},
   "outputs": [
    {
     "name": "stdout",
     "output_type": "stream",
     "text": [
      "3\n"
     ]
    }
   ],
   "source": [
    "x = len(fruits)\n",
    "print(x)"
   ]
  },
  {
   "cell_type": "code",
   "execution_count": 11,
   "id": "f1e9b0dc",
   "metadata": {},
   "outputs": [
    {
     "name": "stdout",
     "output_type": "stream",
     "text": [
      "['Apple', 'Orange', 'Mango', 'Papaya']\n"
     ]
    }
   ],
   "source": [
    "fruits.append(\"Papaya\")\n",
    "print(fruits)"
   ]
  },
  {
   "cell_type": "code",
   "execution_count": 12,
   "id": "c1576894",
   "metadata": {},
   "outputs": [
    {
     "name": "stdout",
     "output_type": "stream",
     "text": [
      "['Watermelon', 'Orange', 'Mango', 'Papaya']\n"
     ]
    }
   ],
   "source": [
    "fruits[0] = \"Watermelon\"\n",
    "print(fruits)"
   ]
  },
  {
   "cell_type": "code",
   "execution_count": 13,
   "id": "2e589ae4",
   "metadata": {},
   "outputs": [
    {
     "name": "stdout",
     "output_type": "stream",
     "text": [
      "Watermelon\n",
      "Orange\n",
      "Mango\n",
      "Papaya\n"
     ]
    }
   ],
   "source": [
    "## Looping the array elements\n",
    "## You can use the for in loop to loop through all the elements of an array.\n",
    "for x in fruits:\n",
    "    print(x)"
   ]
  },
  {
   "cell_type": "code",
   "execution_count": 14,
   "id": "f2a2c40b",
   "metadata": {},
   "outputs": [
    {
     "name": "stdout",
     "output_type": "stream",
     "text": [
      "['Watermelon', 'Mango', 'Papaya']\n"
     ]
    }
   ],
   "source": [
    "fruits.pop(1)\n",
    "print(fruits)"
   ]
  },
  {
   "cell_type": "code",
   "execution_count": 15,
   "id": "11b25f15",
   "metadata": {},
   "outputs": [
    {
     "name": "stdout",
     "output_type": "stream",
     "text": [
      "['Watermelon', 'Papaya']\n"
     ]
    }
   ],
   "source": [
    "fruits.remove(\"Mango\")\n",
    "print(fruits)"
   ]
  },
  {
   "cell_type": "markdown",
   "id": "2cc3a55c",
   "metadata": {},
   "source": [
    "# Array Methods"
   ]
  },
  {
   "cell_type": "markdown",
   "id": "6f0f28b0",
   "metadata": {},
   "source": [
    "## Python has a set of built-in methods that we can use on lists/arrays.\n",
    "\n"
   ]
  },
  {
   "cell_type": "markdown",
   "id": "79e63e6d",
   "metadata": {},
   "source": [
    "- append() Adds an element at the end of the list\n",
    "- clear() Removes all the elements from the list\n",
    "- copy() Returns a copy of the list\n",
    "- count() Returns the number of elements with the specified value\n",
    "- extend() Add the elements of a list (or any iterable), to the end of the current list\n",
    "- index() Returns the index of the first element with the specified value\n",
    "- insert() Adds an element at the specified position\n",
    "- pop() Removes the element at the specified position\n",
    "- remove() Removes the first item with the specified value\n",
    "- reverse() Reverses the order of the list\n",
    "- sort() Sorts the list"
   ]
  },
  {
   "cell_type": "markdown",
   "id": "25cc2f2a",
   "metadata": {},
   "source": [
    "# Python Class and Objects"
   ]
  },
  {
   "cell_type": "markdown",
   "id": "56931518",
   "metadata": {},
   "source": [
    "- Python is an object oriented programming language.\n",
    "- A Class is like an object constructor, or a \"blueprint\" for creating objects."
   ]
  },
  {
   "cell_type": "code",
   "execution_count": null,
   "id": "1247f698",
   "metadata": {},
   "outputs": [],
   "source": []
  }
 ],
 "metadata": {
  "kernelspec": {
   "display_name": "Python 3 (ipykernel)",
   "language": "python",
   "name": "python3"
  },
  "language_info": {
   "codemirror_mode": {
    "name": "ipython",
    "version": 3
   },
   "file_extension": ".py",
   "mimetype": "text/x-python",
   "name": "python",
   "nbconvert_exporter": "python",
   "pygments_lexer": "ipython3",
   "version": "3.10.9"
  }
 },
 "nbformat": 4,
 "nbformat_minor": 5
}
