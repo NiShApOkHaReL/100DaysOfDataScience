{
 "cells": [
  {
   "cell_type": "markdown",
   "id": "3f537b0f",
   "metadata": {},
   "source": [
    "# Difference Between NumPy Array and List in Python"
   ]
  },
  {
   "cell_type": "markdown",
   "id": "17d1623e",
   "metadata": {},
   "source": [
    "- Data type storage\n",
    "- Importing module\n",
    "- Numerical operation\n",
    "- Modification capabilities\n",
    "- Consumes less memory\n",
    "- Fast as compared to the python list\n",
    "- Convenient to use"
   ]
  },
  {
   "cell_type": "code",
   "execution_count": 1,
   "id": "2088ae2b",
   "metadata": {},
   "outputs": [
    {
     "name": "stdout",
     "output_type": "stream",
     "text": [
      "2.37 µs ± 56.4 ns per loop (mean ± std. dev. of 7 runs, 100,000 loops each)\n"
     ]
    }
   ],
   "source": [
    "%timeit [j**4 for j in range(1,9)]"
   ]
  },
  {
   "cell_type": "code",
   "execution_count": 2,
   "id": "9d4cbe8c",
   "metadata": {},
   "outputs": [],
   "source": [
    "import numpy as np"
   ]
  },
  {
   "cell_type": "code",
   "execution_count": 3,
   "id": "0b5aef41",
   "metadata": {},
   "outputs": [
    {
     "name": "stdout",
     "output_type": "stream",
     "text": [
      "594 ns ± 52.7 ns per loop (mean ± std. dev. of 7 runs, 1,000,000 loops each)\n"
     ]
    }
   ],
   "source": [
    "%timeit np.arange(1,9)"
   ]
  },
  {
   "cell_type": "markdown",
   "id": "0e205de3",
   "metadata": {},
   "source": [
    "## NumPy Array"
   ]
  },
  {
   "cell_type": "code",
   "execution_count": 4,
   "id": "335e549b",
   "metadata": {},
   "outputs": [
    {
     "name": "stdout",
     "output_type": "stream",
     "text": [
      "<class 'list'>\n",
      "<class 'numpy.ndarray'>\n"
     ]
    }
   ],
   "source": [
    "x = [1,2,3,4]\n",
    "    \n",
    "y = np.array([1,2,3,4])\n",
    "\n",
    "print(type(x))\n",
    "print(type(y))"
   ]
  },
  {
   "cell_type": "code",
   "execution_count": 5,
   "id": "8f7d46f2",
   "metadata": {},
   "outputs": [
    {
     "name": "stdout",
     "output_type": "stream",
     "text": [
      "Enter: 4\n",
      "Enter: 5\n",
      "Enter: 6\n",
      "Enter: 7\n",
      "[4 5 6 7]\n"
     ]
    }
   ],
   "source": [
    "l = []\n",
    "\n",
    "for i in range(1,5):\n",
    "    int_1 = int(input(\"Enter: \"))\n",
    "    l.append(int_1)\n",
    "print(np.array(l))"
   ]
  },
  {
   "cell_type": "markdown",
   "id": "9224547d",
   "metadata": {},
   "source": [
    "### Dimension in Arrays"
   ]
  },
  {
   "cell_type": "markdown",
   "id": "27543682",
   "metadata": {},
   "source": [
    "1. 1-D Array\n",
    "2. 2-D Array\n",
    "3. 3-D Array\n",
    "4. Higher Dimensional Array"
   ]
  },
  {
   "cell_type": "markdown",
   "id": "18a2aed0",
   "metadata": {},
   "source": [
    "### To check the dimension of Array"
   ]
  },
  {
   "cell_type": "code",
   "execution_count": 6,
   "id": "699129b4",
   "metadata": {},
   "outputs": [
    {
     "name": "stdout",
     "output_type": "stream",
     "text": [
      "[[1 2 3 4]\n",
      " [5 6 7 8]]\n",
      "Dimension of array is 2 - D Array\n"
     ]
    }
   ],
   "source": [
    "ar2 = np.array([[1,2,3,4],[5,6,7,8]])\n",
    "print(ar2)\n",
    "print(\"Dimension of array is\",ar2.ndim,\"- D Array\")"
   ]
  },
  {
   "cell_type": "code",
   "execution_count": 7,
   "id": "f473bdf9",
   "metadata": {},
   "outputs": [
    {
     "name": "stdout",
     "output_type": "stream",
     "text": [
      "[[[ 1  2  3  4]\n",
      "  [ 5  6  7  8]\n",
      "  [ 9 10 11 12]]]\n",
      "Dimension of array is 3 - D Array\n"
     ]
    }
   ],
   "source": [
    "ar3 = np.array([[[1,2,3,4],[5,6,7,8],[9,10,11,12]]])\n",
    "print(ar3)\n",
    "print(\"Dimension of array is\",ar3.ndim,\"- D Array\")"
   ]
  },
  {
   "cell_type": "code",
   "execution_count": 8,
   "id": "f570b910",
   "metadata": {},
   "outputs": [
    {
     "name": "stdout",
     "output_type": "stream",
     "text": [
      "[[[[[[[[[[1 2 3 4]]]]]]]]]]\n",
      "10\n"
     ]
    }
   ],
   "source": [
    "arn = np.array([1,2,3,4], ndmin = 10)\n",
    "print(arn)\n",
    "print(arn.ndim)"
   ]
  },
  {
   "cell_type": "markdown",
   "id": "dca45afe",
   "metadata": {},
   "source": [
    "## Creating array of Zero"
   ]
  },
  {
   "cell_type": "code",
   "execution_count": 9,
   "id": "6153eb54",
   "metadata": {},
   "outputs": [
    {
     "name": "stdout",
     "output_type": "stream",
     "text": [
      "[0. 0. 0. 0.]\n",
      "\n",
      "[[0. 0. 0. 0.]\n",
      " [0. 0. 0. 0.]\n",
      " [0. 0. 0. 0.]]\n"
     ]
    }
   ],
   "source": [
    "ar_zero = np.zeros(4)\n",
    "ar_zero1 = np.zeros((3,4))\n",
    "\n",
    "print(ar_zero)\n",
    "print()\n",
    "print(ar_zero1)"
   ]
  },
  {
   "cell_type": "markdown",
   "id": "d6b918d4",
   "metadata": {},
   "source": [
    "## Ones"
   ]
  },
  {
   "cell_type": "code",
   "execution_count": 10,
   "id": "f0680471",
   "metadata": {},
   "outputs": [],
   "source": [
    "ar_one = np.ones(5)"
   ]
  },
  {
   "cell_type": "code",
   "execution_count": 11,
   "id": "de57a7e8",
   "metadata": {},
   "outputs": [
    {
     "name": "stdout",
     "output_type": "stream",
     "text": [
      "[1. 1. 1. 1. 1.]\n"
     ]
    }
   ],
   "source": [
    "print(ar_one)"
   ]
  },
  {
   "cell_type": "markdown",
   "id": "2c056f1c",
   "metadata": {},
   "source": [
    "## Creating empty array"
   ]
  },
  {
   "cell_type": "code",
   "execution_count": 12,
   "id": "6f64f47e",
   "metadata": {},
   "outputs": [
    {
     "name": "stdout",
     "output_type": "stream",
     "text": [
      "[0. 0. 0. 0.]\n"
     ]
    }
   ],
   "source": [
    "ar_empty = np.empty(4)\n",
    "print(ar_empty) # Contain the value of previous memory"
   ]
  },
  {
   "cell_type": "markdown",
   "id": "94fee21b",
   "metadata": {},
   "source": [
    "## Range"
   ]
  },
  {
   "cell_type": "code",
   "execution_count": 13,
   "id": "e4ff7938",
   "metadata": {},
   "outputs": [
    {
     "name": "stdout",
     "output_type": "stream",
     "text": [
      "[0 1 2 3 4]\n"
     ]
    }
   ],
   "source": [
    "ar_rn = np.arange(5)\n",
    "print(ar_rn)"
   ]
  },
  {
   "cell_type": "markdown",
   "id": "8346b340",
   "metadata": {},
   "source": [
    "## Diagonal element filled with 1's"
   ]
  },
  {
   "cell_type": "code",
   "execution_count": 14,
   "id": "468bfe0f",
   "metadata": {},
   "outputs": [
    {
     "name": "stdout",
     "output_type": "stream",
     "text": [
      "[[1. 0. 0. 0.]\n",
      " [0. 1. 0. 0.]\n",
      " [0. 0. 1. 0.]\n",
      " [0. 0. 0. 1.]]\n"
     ]
    }
   ],
   "source": [
    "ar_dia = np.eye(4)\n",
    "print(ar_dia)"
   ]
  },
  {
   "cell_type": "code",
   "execution_count": 15,
   "id": "d97dc195",
   "metadata": {},
   "outputs": [
    {
     "name": "stdout",
     "output_type": "stream",
     "text": [
      "[[1. 0. 0. 0. 0.]\n",
      " [0. 1. 0. 0. 0.]\n",
      " [0. 0. 1. 0. 0.]]\n"
     ]
    }
   ],
   "source": [
    "ar_dia1 = np.eye(3,5)\n",
    "print(ar_dia1)"
   ]
  },
  {
   "cell_type": "markdown",
   "id": "7174e3d0",
   "metadata": {},
   "source": [
    "## Linspace"
   ]
  },
  {
   "cell_type": "code",
   "execution_count": 16,
   "id": "bd5ac14e",
   "metadata": {},
   "outputs": [
    {
     "name": "stdout",
     "output_type": "stream",
     "text": [
      "[ 0.  5. 10. 15. 20.]\n"
     ]
    }
   ],
   "source": [
    "ar_lin = np.linspace(0,20,num=5) # Array with gaps\n",
    "print(ar_lin)"
   ]
  },
  {
   "cell_type": "markdown",
   "id": "0d7f5979",
   "metadata": {},
   "source": [
    "## Creating NumPy Arrays with Random Numbers"
   ]
  },
  {
   "cell_type": "markdown",
   "id": "ebcbab11",
   "metadata": {},
   "source": [
    "### Rand() - This function is used to generate random value between 0 to 1."
   ]
  },
  {
   "cell_type": "code",
   "execution_count": 17,
   "id": "e6417339",
   "metadata": {},
   "outputs": [],
   "source": [
    "var = np.random.rand(4) # random num between 0 to 1"
   ]
  },
  {
   "cell_type": "code",
   "execution_count": 18,
   "id": "842be23d",
   "metadata": {},
   "outputs": [
    {
     "name": "stdout",
     "output_type": "stream",
     "text": [
      "[0.18907734 0.52218797 0.14093473 0.4518354 ]\n"
     ]
    }
   ],
   "source": [
    "print(var)"
   ]
  },
  {
   "cell_type": "code",
   "execution_count": 19,
   "id": "11714c80",
   "metadata": {},
   "outputs": [
    {
     "name": "stdout",
     "output_type": "stream",
     "text": [
      "[[0.16642582 0.79944208 0.37028697]\n",
      " [0.48150025 0.15181124 0.96249682]]\n"
     ]
    }
   ],
   "source": [
    "var1 = np.random.rand(2,3)\n",
    "print(var1)"
   ]
  },
  {
   "cell_type": "markdown",
   "id": "aea275f6",
   "metadata": {},
   "source": [
    "### Randn() - Generate random value close to zero, may return +ve or -ve as well."
   ]
  },
  {
   "cell_type": "code",
   "execution_count": 20,
   "id": "4d365223",
   "metadata": {},
   "outputs": [
    {
     "name": "stdout",
     "output_type": "stream",
     "text": [
      "[ 0.02860159 -0.09408098 -2.04125277 -0.45841631 -0.34229711]\n"
     ]
    }
   ],
   "source": [
    "var2 = np.random.randn(5)\n",
    "\n",
    "print(var2)"
   ]
  },
  {
   "cell_type": "markdown",
   "id": "f4535aed",
   "metadata": {},
   "source": [
    "### ranf()"
   ]
  },
  {
   "cell_type": "code",
   "execution_count": 21,
   "id": "1e243f6d",
   "metadata": {},
   "outputs": [
    {
     "name": "stdout",
     "output_type": "stream",
     "text": [
      "[0.90093458 0.3748264  0.91533804 0.15802037]\n"
     ]
    }
   ],
   "source": [
    "var3 = np.random.ranf(4) # [0.0,1.0)\n",
    "print(var3)"
   ]
  },
  {
   "cell_type": "markdown",
   "id": "f17cd449",
   "metadata": {},
   "source": [
    "### randint()"
   ]
  },
  {
   "cell_type": "code",
   "execution_count": 22,
   "id": "d5539806",
   "metadata": {},
   "outputs": [
    {
     "name": "stdout",
     "output_type": "stream",
     "text": [
      "[15 16  9 13 16]\n"
     ]
    }
   ],
   "source": [
    "#var4 = np.random.randint(min,max,total_values)\n",
    "var4 = np.random.randint(5,20,5)\n",
    "print(var4)"
   ]
  },
  {
   "cell_type": "markdown",
   "id": "9e83d66f",
   "metadata": {},
   "source": [
    "## Data Types in NumPy Arrays"
   ]
  },
  {
   "cell_type": "code",
   "execution_count": 23,
   "id": "34f13b14",
   "metadata": {},
   "outputs": [
    {
     "name": "stdout",
     "output_type": "stream",
     "text": [
      "Data Type:  int32\n"
     ]
    }
   ],
   "source": [
    "var = np.array([1,2,3])\n",
    "print(\"Data Type: \",var.dtype)"
   ]
  },
  {
   "cell_type": "code",
   "execution_count": 24,
   "id": "13f326c8",
   "metadata": {},
   "outputs": [
    {
     "name": "stdout",
     "output_type": "stream",
     "text": [
      "Data Type:  float64\n"
     ]
    }
   ],
   "source": [
    "var = np.array([1.4,2.5,3.2])\n",
    "print(\"Data Type: \",var.dtype)"
   ]
  },
  {
   "cell_type": "code",
   "execution_count": 25,
   "id": "d38e1f7b",
   "metadata": {},
   "outputs": [
    {
     "name": "stdout",
     "output_type": "stream",
     "text": [
      "Data Type:  <U1\n"
     ]
    }
   ],
   "source": [
    "var = np.array([\"2\",\"f\"])\n",
    "print(\"Data Type: \",var.dtype) #String Datatype"
   ]
  },
  {
   "cell_type": "code",
   "execution_count": 26,
   "id": "aafedd41",
   "metadata": {},
   "outputs": [
    {
     "name": "stdout",
     "output_type": "stream",
     "text": [
      "Data Type:  <U1\n"
     ]
    }
   ],
   "source": [
    "var = np.array([\"c\",\"f\"])\n",
    "print(\"Data Type: \",var.dtype)"
   ]
  },
  {
   "cell_type": "markdown",
   "id": "5a464c0a",
   "metadata": {},
   "source": [
    "### Converting the datatype"
   ]
  },
  {
   "cell_type": "code",
   "execution_count": 27,
   "id": "03cfa993",
   "metadata": {},
   "outputs": [
    {
     "name": "stdout",
     "output_type": "stream",
     "text": [
      "Data Type:  int32\n"
     ]
    }
   ],
   "source": [
    "x = np.array([1,2,3])\n",
    "print(\"Data Type: \",x.dtype)"
   ]
  },
  {
   "cell_type": "code",
   "execution_count": 28,
   "id": "3a8a4f5e",
   "metadata": {},
   "outputs": [
    {
     "name": "stdout",
     "output_type": "stream",
     "text": [
      "Data Type:  int8\n",
      "[1 2 3]\n"
     ]
    }
   ],
   "source": [
    "x = np.array([1,2,3], dtype=np.int8)\n",
    "print(\"Data Type: \",x.dtype)\n",
    "print(x)"
   ]
  },
  {
   "cell_type": "code",
   "execution_count": 29,
   "id": "77d892f6",
   "metadata": {},
   "outputs": [
    {
     "name": "stdout",
     "output_type": "stream",
     "text": [
      "Data Type:  float32\n",
      "[1. 2. 3.]\n"
     ]
    }
   ],
   "source": [
    "x1 = np.array([1,2,3], dtype=\"f\")\n",
    "print(\"Data Type: \",x1.dtype)\n",
    "print(x1)"
   ]
  },
  {
   "cell_type": "code",
   "execution_count": 30,
   "id": "33ec7695",
   "metadata": {},
   "outputs": [
    {
     "name": "stdout",
     "output_type": "stream",
     "text": [
      "Data Type:  int32\n",
      "Data Type:  float32\n",
      "[1 2 3]\n",
      "[1. 2. 3.]\n"
     ]
    }
   ],
   "source": [
    "x2 = np.array([1,2,3])  #Using as a function\n",
    "\n",
    "new = np.float32(x2)\n",
    "\n",
    "print(\"Data Type: \",x2.dtype)\n",
    "print(\"Data Type: \",new.dtype)\n",
    "\n",
    "print(x2)\n",
    "print(new)"
   ]
  },
  {
   "cell_type": "code",
   "execution_count": 31,
   "id": "00d933b2",
   "metadata": {},
   "outputs": [
    {
     "name": "stdout",
     "output_type": "stream",
     "text": [
      "Data Type:  int32\n",
      "Data Type:  float32\n",
      "Data Type:  int32\n",
      "[1 2 3]\n",
      "[1. 2. 3.]\n",
      "[1 2 3]\n"
     ]
    }
   ],
   "source": [
    "x2 = np.array([1,2,3])  #Using as a function\n",
    "\n",
    "new = np.float32(x2)\n",
    "\n",
    "new_one = np.int_(new)\n",
    "\n",
    "print(\"Data Type: \",x2.dtype)\n",
    "print(\"Data Type: \",new.dtype)\n",
    "print(\"Data Type: \",new_one.dtype)\n",
    "\n",
    "print(x2)\n",
    "print(new)\n",
    "print(new_one)"
   ]
  },
  {
   "cell_type": "code",
   "execution_count": 32,
   "id": "38ff46ac",
   "metadata": {},
   "outputs": [
    {
     "name": "stdout",
     "output_type": "stream",
     "text": [
      "[1 2 3 4 5]\n",
      "[1. 2. 3. 4. 5.]\n"
     ]
    }
   ],
   "source": [
    "x3 = np.array([1,2,3,4,5])\n",
    "\n",
    "new_1 = x3.astype(float)\n",
    "\n",
    "print(x3)\n",
    "print(new_1)"
   ]
  },
  {
   "cell_type": "markdown",
   "id": "805f1ebc",
   "metadata": {},
   "source": [
    "## Arithmetic Operation"
   ]
  },
  {
   "cell_type": "code",
   "execution_count": 33,
   "id": "1ad3f562",
   "metadata": {},
   "outputs": [
    {
     "name": "stdout",
     "output_type": "stream",
     "text": [
      "[4 5 6 7]\n"
     ]
    }
   ],
   "source": [
    "var = np.array([1,2,3,4])\n",
    "\n",
    "varadd = var+3\n",
    "\n",
    "print(varadd)"
   ]
  },
  {
   "cell_type": "code",
   "execution_count": 34,
   "id": "51674e73",
   "metadata": {},
   "outputs": [
    {
     "name": "stdout",
     "output_type": "stream",
     "text": [
      "[4 5 6 7]\n"
     ]
    }
   ],
   "source": [
    "var1 = np.array([1,2,3,4])\n",
    "var2 = np.array([1,2,3,4])\n",
    "\n",
    "varadd = np.add(var1,3)\n",
    "\n",
    "print(varadd)"
   ]
  },
  {
   "cell_type": "code",
   "execution_count": 35,
   "id": "a2ceb5c9",
   "metadata": {},
   "outputs": [
    {
     "name": "stdout",
     "output_type": "stream",
     "text": [
      "[2 4 6 8]\n"
     ]
    }
   ],
   "source": [
    "var1 = np.array([1,2,3,4])\n",
    "var2 = np.array([1,2,3,4])\n",
    "\n",
    "varadd = var1+var2\n",
    "\n",
    "print(varadd)"
   ]
  },
  {
   "cell_type": "code",
   "execution_count": 36,
   "id": "d92536e0",
   "metadata": {},
   "outputs": [
    {
     "name": "stdout",
     "output_type": "stream",
     "text": [
      "[2 4 6 8]\n"
     ]
    }
   ],
   "source": [
    "var1 = np.array([1,2,3,4])\n",
    "var2 = np.array([1,2,3,4])\n",
    "\n",
    "varadd = np.add(var1,var2)\n",
    "\n",
    "print(varadd)"
   ]
  },
  {
   "cell_type": "code",
   "execution_count": 37,
   "id": "d94a32f5",
   "metadata": {},
   "outputs": [
    {
     "name": "stdout",
     "output_type": "stream",
     "text": [
      "[-2 -1  0  1]\n"
     ]
    }
   ],
   "source": [
    "var = np.array([1,2,3,4])\n",
    "\n",
    "varadd = var-3\n",
    "\n",
    "print(varadd)"
   ]
  },
  {
   "cell_type": "code",
   "execution_count": 38,
   "id": "245b7910",
   "metadata": {},
   "outputs": [
    {
     "name": "stdout",
     "output_type": "stream",
     "text": [
      "[ 1  4  9 16]\n"
     ]
    }
   ],
   "source": [
    "var1 = np.array([1,2,3,4])\n",
    "var2 = np.array([1,2,3,4])\n",
    "\n",
    "varadd = var1*var2\n",
    "\n",
    "print(varadd)"
   ]
  },
  {
   "cell_type": "code",
   "execution_count": 39,
   "id": "8d3c691e",
   "metadata": {},
   "outputs": [
    {
     "name": "stdout",
     "output_type": "stream",
     "text": [
      "[4.         3.         0.33333333 0.5       ]\n"
     ]
    }
   ],
   "source": [
    "var1 = np.array([4,6,1,2])\n",
    "var2 = np.array([1,2,3,4])\n",
    "\n",
    "varadd = var1/var2\n",
    "\n",
    "print(varadd)"
   ]
  },
  {
   "cell_type": "code",
   "execution_count": 40,
   "id": "ec74b014",
   "metadata": {},
   "outputs": [
    {
     "name": "stdout",
     "output_type": "stream",
     "text": [
      "[0 0 1 2]\n"
     ]
    }
   ],
   "source": [
    "var1 = np.array([4,6,1,2])\n",
    "var2 = np.array([1,2,3,4])\n",
    "\n",
    "varadd = var1%var2\n",
    "\n",
    "print(varadd)"
   ]
  },
  {
   "cell_type": "code",
   "execution_count": 41,
   "id": "74672172",
   "metadata": {},
   "outputs": [
    {
     "name": "stdout",
     "output_type": "stream",
     "text": [
      "[  1   4  27 256]\n"
     ]
    }
   ],
   "source": [
    "var1 = np.array([1,2,3,4])\n",
    "var2 = np.array([1,2,3,4])\n",
    "\n",
    "varadd = var1**var2 #Power\n",
    "\n",
    "print(varadd)"
   ]
  },
  {
   "cell_type": "code",
   "execution_count": 42,
   "id": "26c9f97f",
   "metadata": {},
   "outputs": [
    {
     "name": "stdout",
     "output_type": "stream",
     "text": [
      "[0 0 1 0]\n"
     ]
    }
   ],
   "source": [
    "var1 = np.array([4,6,1,2])\n",
    "\n",
    "\n",
    "varadd = np.reciprocal(var1) #1/a\n",
    "\n",
    "print(varadd)"
   ]
  },
  {
   "cell_type": "markdown",
   "id": "d934155e",
   "metadata": {},
   "source": [
    "### 2-D Array"
   ]
  },
  {
   "cell_type": "code",
   "execution_count": 43,
   "id": "af2b9daa",
   "metadata": {},
   "outputs": [
    {
     "name": "stdout",
     "output_type": "stream",
     "text": [
      "[[1 0 1 2]\n",
      " [0 2 0 1]]\n"
     ]
    }
   ],
   "source": [
    "var1 = np.array([[4,6,1,2],[3,2,6,7]])\n",
    "\n",
    "var2 = var1%3\n",
    "\n",
    "print(var2)"
   ]
  },
  {
   "cell_type": "code",
   "execution_count": 44,
   "id": "a4b7efff",
   "metadata": {},
   "outputs": [
    {
     "name": "stdout",
     "output_type": "stream",
     "text": [
      "[[4 6 1 2]\n",
      " [3 2 6 7]]\n",
      "\n",
      "[[6 7 8 9]\n",
      " [3 2 0 7]]\n",
      "\n",
      "[[10 13  9 11]\n",
      " [ 6  4  6 14]]\n"
     ]
    }
   ],
   "source": [
    "var1 = np.array([[4,6,1,2],[3,2,6,7]])\n",
    "var2 = np.array([[6,7,8,9],[3,2,0,7]])\n",
    "\n",
    "print(var1)\n",
    "print()\n",
    "print(var2)\n",
    "print()\n",
    "varadd = var1+var2\n",
    "\n",
    "print(varadd)"
   ]
  },
  {
   "cell_type": "markdown",
   "id": "812ab690",
   "metadata": {},
   "source": [
    "## Arithmetic Functions"
   ]
  },
  {
   "cell_type": "code",
   "execution_count": 45,
   "id": "7d1fea02",
   "metadata": {},
   "outputs": [
    {
     "name": "stdout",
     "output_type": "stream",
     "text": [
      "Minimum : 2 Index :  2\n",
      "Maximum : 8 Index : 1\n"
     ]
    }
   ],
   "source": [
    "var = np.array([5,8,2,3,4])\n",
    "\n",
    "print(\"Minimum :\",np.min(var),\"Index : \",np.argmin(var))\n",
    "print(\"Maximum :\",np.max(var),\"Index :\",np.argmax(var))"
   ]
  },
  {
   "cell_type": "code",
   "execution_count": 46,
   "id": "e211db23",
   "metadata": {},
   "outputs": [
    {
     "name": "stdout",
     "output_type": "stream",
     "text": [
      "[2 0]\n"
     ]
    }
   ],
   "source": [
    "var = np.array([[5,8,2,3],[0,6,7,10]])  # Axis =0 \"Col\", # Axis =1 \"Row\"\n",
    "print(np.min(var,axis=1))"
   ]
  },
  {
   "cell_type": "code",
   "execution_count": 47,
   "id": "e074acc7",
   "metadata": {},
   "outputs": [
    {
     "name": "stdout",
     "output_type": "stream",
     "text": [
      "[0 6 2 3]\n"
     ]
    }
   ],
   "source": [
    "var = np.array([[5,8,2,3],[0,6,7,10]])  # Axis =0 \"Col\", # Axis =1 \"Row\"\n",
    "print(np.min(var,axis=0))"
   ]
  },
  {
   "cell_type": "code",
   "execution_count": 48,
   "id": "b059196d",
   "metadata": {},
   "outputs": [
    {
     "name": "stdout",
     "output_type": "stream",
     "text": [
      "Square Root [2. 4. 5.]\n"
     ]
    }
   ],
   "source": [
    "var1 = np.array([4,16,25])\n",
    "print(\"Square Root\",np.sqrt(var1))"
   ]
  },
  {
   "cell_type": "code",
   "execution_count": 49,
   "id": "52aa3226",
   "metadata": {},
   "outputs": [
    {
     "name": "stdout",
     "output_type": "stream",
     "text": [
      "[0.84147098 0.90929743 0.14112001]\n",
      "[ 0.54030231 -0.41614684 -0.9899925 ]\n",
      "[1 3 6]\n"
     ]
    }
   ],
   "source": [
    "var2 = np.array([1,2,3])\n",
    "\n",
    "print(np.sin(var2))\n",
    "print(np.cos(var2))\n",
    "\n",
    "print(np.cumsum(var2)) # 1, 1+2=3, 3+3=6"
   ]
  },
  {
   "cell_type": "markdown",
   "id": "3e6c5e4c",
   "metadata": {},
   "source": [
    "# Shape and Reshaping in NumPy Arrays"
   ]
  },
  {
   "cell_type": "markdown",
   "id": "e71d339e",
   "metadata": {},
   "source": [
    "### Shape"
   ]
  },
  {
   "cell_type": "code",
   "execution_count": 50,
   "id": "c8bedf90",
   "metadata": {},
   "outputs": [
    {
     "name": "stdout",
     "output_type": "stream",
     "text": [
      "[[1 2 3 4]\n",
      " [3 4 3 7]]\n",
      "\n",
      "(2, 4)\n"
     ]
    }
   ],
   "source": [
    "var = np.array([[1,2,3,4],[3,4,3,7]])\n",
    "print(var)\n",
    "print()\n",
    "print(var.shape)"
   ]
  },
  {
   "cell_type": "code",
   "execution_count": 51,
   "id": "1d365fc7",
   "metadata": {},
   "outputs": [
    {
     "name": "stdout",
     "output_type": "stream",
     "text": [
      "[[[[1 2 3]]]]\n",
      "\n",
      "4\n",
      "\n",
      "(1, 1, 1, 3)\n"
     ]
    }
   ],
   "source": [
    "var1 = np.array([1,2,3],ndmin=4)\n",
    "\n",
    "print(var1)\n",
    "print()\n",
    "print(var1.ndim)\n",
    "print()\n",
    "print(var1.shape)"
   ]
  },
  {
   "cell_type": "markdown",
   "id": "246ae898",
   "metadata": {},
   "source": [
    "### Reshape"
   ]
  },
  {
   "cell_type": "code",
   "execution_count": 52,
   "id": "f66e637a",
   "metadata": {},
   "outputs": [
    {
     "name": "stdout",
     "output_type": "stream",
     "text": [
      "[1 2 3 4 5 6]\n",
      "1\n",
      "\n",
      "[[1 2]\n",
      " [3 4]\n",
      " [5 6]]\n",
      "2\n"
     ]
    }
   ],
   "source": [
    "var2 = np.array([1,2,3,4,5,6])\n",
    "print(var2)\n",
    "print(var2.ndim)\n",
    "print()\n",
    "x = var2.reshape(3,2)\n",
    "\n",
    "print(x)\n",
    "print(x.ndim)"
   ]
  },
  {
   "cell_type": "code",
   "execution_count": 53,
   "id": "caddfb01",
   "metadata": {},
   "outputs": [
    {
     "name": "stdout",
     "output_type": "stream",
     "text": [
      "[ 1  2  3  4  5  6  7  8  9 10 11 12]\n",
      "1\n",
      "\n",
      "[[[ 1  2]\n",
      "  [ 3  4]\n",
      "  [ 5  6]]\n",
      "\n",
      " [[ 7  8]\n",
      "  [ 9 10]\n",
      "  [11 12]]]\n",
      "3\n",
      "\n",
      "[ 1  2  3  4  5  6  7  8  9 10 11 12]\n",
      "1\n"
     ]
    }
   ],
   "source": [
    "var3 = np.array([1,2,3,4,5,6,7,8,9,10,11,12])\n",
    "print(var3)\n",
    "print(var3.ndim)\n",
    "print()\n",
    "x1 = var3.reshape(2,3,2)\n",
    "\n",
    "print(x1)\n",
    "print(x1.ndim)\n",
    "\n",
    "print()\n",
    "\n",
    "one = x1.reshape(-1)\n",
    "print(one)\n",
    "print(one.ndim)"
   ]
  },
  {
   "cell_type": "markdown",
   "id": "cf50bad5",
   "metadata": {},
   "source": [
    "# Broadcasting "
   ]
  },
  {
   "cell_type": "code",
   "execution_count": 54,
   "id": "4a628ac7",
   "metadata": {},
   "outputs": [
    {
     "ename": "ValueError",
     "evalue": "operands could not be broadcast together with shapes (4,) (3,) ",
     "output_type": "error",
     "traceback": [
      "\u001b[1;31m---------------------------------------------------------------------------\u001b[0m",
      "\u001b[1;31mValueError\u001b[0m                                Traceback (most recent call last)",
      "Cell \u001b[1;32mIn[54], line 4\u001b[0m\n\u001b[0;32m      1\u001b[0m var1 \u001b[38;5;241m=\u001b[39m  np\u001b[38;5;241m.\u001b[39marray([\u001b[38;5;241m1\u001b[39m,\u001b[38;5;241m2\u001b[39m,\u001b[38;5;241m3\u001b[39m,\u001b[38;5;241m4\u001b[39m])\n\u001b[0;32m      2\u001b[0m var2 \u001b[38;5;241m=\u001b[39m  np\u001b[38;5;241m.\u001b[39marray([\u001b[38;5;241m1\u001b[39m,\u001b[38;5;241m2\u001b[39m,\u001b[38;5;241m3\u001b[39m])\n\u001b[1;32m----> 4\u001b[0m \u001b[38;5;28mprint\u001b[39m(\u001b[43mvar1\u001b[49m\u001b[38;5;241;43m+\u001b[39;49m\u001b[43mvar2\u001b[49m)\n",
      "\u001b[1;31mValueError\u001b[0m: operands could not be broadcast together with shapes (4,) (3,) "
     ]
    }
   ],
   "source": [
    "var1 =  np.array([1,2,3,4])\n",
    "var2 =  np.array([1,2,3])\n",
    "\n",
    "print(var1+var2)  #Must be of Same Dimension"
   ]
  },
  {
   "cell_type": "code",
   "execution_count": 55,
   "id": "dce18607",
   "metadata": {},
   "outputs": [
    {
     "name": "stdout",
     "output_type": "stream",
     "text": [
      "(3,)\n",
      "\n",
      "[1 2 3]\n",
      "\n",
      "(3, 1)\n",
      "\n",
      "[[1]\n",
      " [2]\n",
      " [3]]\n",
      "\n",
      "[[2 3 4]\n",
      " [3 4 5]\n",
      " [4 5 6]]\n"
     ]
    }
   ],
   "source": [
    "var1 =  np.array([1,2,3])\n",
    "print(var1.shape)\n",
    "print()\n",
    "print(var1)\n",
    "print()\n",
    "\n",
    "var2 =  np.array([[1],[2],[3]])\n",
    "print(var2.shape)\n",
    "print()\n",
    "print(var2)\n",
    "print()\n",
    "print(var1+var2) "
   ]
  },
  {
   "cell_type": "markdown",
   "id": "852b06b0",
   "metadata": {},
   "source": [
    "# Indexing and Slicing"
   ]
  },
  {
   "cell_type": "code",
   "execution_count": 56,
   "id": "e82b2f51",
   "metadata": {},
   "outputs": [
    {
     "name": "stdout",
     "output_type": "stream",
     "text": [
      "4\n",
      "5\n"
     ]
    }
   ],
   "source": [
    "var = np.array([3,4,5,6])\n",
    "\n",
    "print(var[1])\n",
    "print(var[-2])"
   ]
  },
  {
   "cell_type": "code",
   "execution_count": 57,
   "id": "9b5a5bdf",
   "metadata": {},
   "outputs": [
    {
     "name": "stdout",
     "output_type": "stream",
     "text": [
      "[[2 3 4]\n",
      " [5 6 7]]\n",
      "2 - D Array\n",
      "\n",
      "4\n"
     ]
    }
   ],
   "source": [
    "var1 = np.array([[2,3,4],[5,6,7]])\n",
    "\n",
    "print(var1)\n",
    "print(var1.ndim,\"- D Array\")\n",
    "print()\n",
    "\n",
    "print(var1[0,2])"
   ]
  },
  {
   "cell_type": "code",
   "execution_count": 58,
   "id": "7f08b373",
   "metadata": {},
   "outputs": [
    {
     "name": "stdout",
     "output_type": "stream",
     "text": [
      "[[[1 2]\n",
      "  [3 4]]]\n",
      "3\n",
      "\n",
      "4\n"
     ]
    }
   ],
   "source": [
    "var2 = np.array([[[1,2],[3,4]]])\n",
    "\n",
    "print(var2)\n",
    "print(var2.ndim)\n",
    "print()\n",
    "print(var2[0,1,1])"
   ]
  },
  {
   "cell_type": "code",
   "execution_count": 59,
   "id": "a101bd40",
   "metadata": {},
   "outputs": [
    {
     "name": "stdout",
     "output_type": "stream",
     "text": [
      "[3 4 5 6]\n",
      "[1 2 3 4 5]\n",
      "[6]\n",
      "[1 2 3 4 5 6]\n",
      "[1 3 5]\n",
      "[2 4 6]\n"
     ]
    }
   ],
   "source": [
    "var = np.array([1,2,3,4,5,6])\n",
    "\n",
    "print(var[2:6])\n",
    "print(var[:5])\n",
    "print(var[5:])\n",
    "print(var[:])\n",
    "print(var[::2])\n",
    "print(var[1:6:2])"
   ]
  },
  {
   "cell_type": "code",
   "execution_count": 60,
   "id": "5e767f21",
   "metadata": {},
   "outputs": [
    {
     "name": "stdout",
     "output_type": "stream",
     "text": [
      "[[ 1  2  3  4  5]\n",
      " [ 6  7  8  9 10]\n",
      " [11 12 13 14 15]]\n",
      "\n",
      "[12 13 14 15]\n"
     ]
    }
   ],
   "source": [
    "var1 = np.array([[1,2,3,4,5],[6,7,8,9,10],[11,12,13,14,15]])\n",
    "\n",
    "print(var1)\n",
    "print()\n",
    "\n",
    "print(var1[2,1:])"
   ]
  },
  {
   "cell_type": "markdown",
   "id": "8d259dd3",
   "metadata": {},
   "source": [
    "# Iteration"
   ]
  },
  {
   "cell_type": "code",
   "execution_count": 61,
   "id": "0fa4bd61",
   "metadata": {},
   "outputs": [
    {
     "name": "stdout",
     "output_type": "stream",
     "text": [
      "[1 2 3 4 5]\n",
      "\n",
      "1\n",
      "2\n",
      "3\n",
      "4\n",
      "5\n"
     ]
    }
   ],
   "source": [
    "var = np.array([1,2,3,4,5])\n",
    "print(var)\n",
    "print()\n",
    "for i in var:\n",
    "    print(i)"
   ]
  },
  {
   "cell_type": "code",
   "execution_count": 62,
   "id": "411028f2",
   "metadata": {},
   "outputs": [
    {
     "name": "stdout",
     "output_type": "stream",
     "text": [
      "[[1 2 3 4]\n",
      " [5 6 7 8]]\n",
      "\n",
      "[1 2 3 4]\n",
      "[5 6 7 8]\n",
      "\n",
      "1\n",
      "2\n",
      "3\n",
      "4\n",
      "5\n",
      "6\n",
      "7\n",
      "8\n"
     ]
    }
   ],
   "source": [
    "var1 = np.array([[1,2,3,4],[5,6,7,8]])\n",
    "\n",
    "print(var1)\n",
    "print()\n",
    "\n",
    "for j in var1:\n",
    "    print(j)\n",
    "\n",
    "print()\n",
    "for k in var1:\n",
    "    for l in k:\n",
    "        print(l)"
   ]
  },
  {
   "cell_type": "code",
   "execution_count": 63,
   "id": "58264570",
   "metadata": {},
   "outputs": [
    {
     "name": "stdout",
     "output_type": "stream",
     "text": [
      "[[[1 2 3 4]\n",
      "  [5 6 7 8]]]\n",
      "\n",
      "3\n",
      "\n",
      "1\n",
      "2\n",
      "3\n",
      "4\n",
      "5\n",
      "6\n",
      "7\n",
      "8\n"
     ]
    }
   ],
   "source": [
    "var3 = np.array([[[1,2,3,4],[5,6,7,8]]])\n",
    "\n",
    "print(var3)\n",
    "print()\n",
    "print(var3.ndim)\n",
    "print()\n",
    "\n",
    "for i in var3:\n",
    "    for j in i:\n",
    "        for k in j:\n",
    "            print(k)"
   ]
  },
  {
   "cell_type": "code",
   "execution_count": null,
   "id": "773b2052",
   "metadata": {},
   "outputs": [],
   "source": []
  },
  {
   "cell_type": "code",
   "execution_count": null,
   "id": "dd927e6d",
   "metadata": {},
   "outputs": [],
   "source": []
  },
  {
   "cell_type": "code",
   "execution_count": null,
   "id": "b66106d2",
   "metadata": {},
   "outputs": [],
   "source": []
  },
  {
   "cell_type": "code",
   "execution_count": null,
   "id": "8d7706f4",
   "metadata": {},
   "outputs": [],
   "source": []
  },
  {
   "cell_type": "code",
   "execution_count": null,
   "id": "e8fc2fc3",
   "metadata": {},
   "outputs": [],
   "source": []
  },
  {
   "cell_type": "code",
   "execution_count": null,
   "id": "225fe9f6",
   "metadata": {},
   "outputs": [],
   "source": []
  }
 ],
 "metadata": {
  "kernelspec": {
   "display_name": "Python 3 (ipykernel)",
   "language": "python",
   "name": "python3"
  },
  "language_info": {
   "codemirror_mode": {
    "name": "ipython",
    "version": 3
   },
   "file_extension": ".py",
   "mimetype": "text/x-python",
   "name": "python",
   "nbconvert_exporter": "python",
   "pygments_lexer": "ipython3",
   "version": "3.10.9"
  }
 },
 "nbformat": 4,
 "nbformat_minor": 5
}
