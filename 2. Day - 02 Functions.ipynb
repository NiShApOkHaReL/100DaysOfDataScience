{
 "cells": [
  {
   "cell_type": "markdown",
   "id": "8d0c9762",
   "metadata": {},
   "source": [
    "# Functions"
   ]
  },
  {
   "cell_type": "markdown",
   "id": "de57dcfb",
   "metadata": {},
   "source": [
    "## Python Functions is a block of statements that return the specific task."
   ]
  },
  {
   "cell_type": "code",
   "execution_count": 1,
   "id": "db2f7be0",
   "metadata": {},
   "outputs": [],
   "source": [
    "#Creating function\n",
    "def my_fun():\n",
    "    print(\"Hello World!!\")"
   ]
  },
  {
   "cell_type": "markdown",
   "id": "a6b1df95",
   "metadata": {},
   "source": [
    "## Some Benefits of Using Functions"
   ]
  },
  {
   "cell_type": "markdown",
   "id": "f06f42eb",
   "metadata": {},
   "source": [
    "Increase Code Readability,  \n",
    "Increase Code Reusability"
   ]
  },
  {
   "cell_type": "markdown",
   "id": "74c68285",
   "metadata": {},
   "source": [
    "## Types of functions"
   ]
  },
  {
   "cell_type": "markdown",
   "id": "79c23000",
   "metadata": {},
   "source": [
    "- Built-in library function: These are Standard functions in Python that are available to use.\n",
    "- User-defined function: We can create our own functions based on our requirements."
   ]
  },
  {
   "cell_type": "markdown",
   "id": "4622f6ae",
   "metadata": {},
   "source": [
    "## Built-in Functions"
   ]
  },
  {
   "cell_type": "code",
   "execution_count": 2,
   "id": "12b9ed38",
   "metadata": {},
   "outputs": [
    {
     "name": "stdout",
     "output_type": "stream",
     "text": [
      "Hello World\n"
     ]
    }
   ],
   "source": [
    "# Example of some Built-in functions\n",
    "print(\"Hello World\")"
   ]
  },
  {
   "cell_type": "code",
   "execution_count": 3,
   "id": "150b0cd0",
   "metadata": {},
   "outputs": [
    {
     "name": "stdout",
     "output_type": "stream",
     "text": [
      "Lenght of string is:  14\n"
     ]
    }
   ],
   "source": [
    "str_len = len(\"Nisha Pokharel\")\n",
    "print(\"Lenght of string is: \", str_len)"
   ]
  },
  {
   "cell_type": "code",
   "execution_count": 4,
   "id": "ebab3398",
   "metadata": {},
   "outputs": [
    {
     "name": "stdout",
     "output_type": "stream",
     "text": [
      "Type of the value: <class 'int'>\n"
     ]
    }
   ],
   "source": [
    "data_type = type(42)\n",
    "print(\"Type of the value:\", data_type)"
   ]
  },
  {
   "cell_type": "code",
   "execution_count": 5,
   "id": "06685238",
   "metadata": {},
   "outputs": [
    {
     "name": "stdout",
     "output_type": "stream",
     "text": [
      "Type of the value: <class 'str'>\n",
      "Converted integer: 23\n",
      "Type of the value: <class 'int'>\n"
     ]
    }
   ],
   "source": [
    "a = \"23\"\n",
    "print(\"Type of the value:\", type(a))\n",
    "number = int(a)\n",
    "print(\"Converted integer:\", number)\n",
    "print(\"Type of the value:\", type(number))"
   ]
  },
  {
   "cell_type": "code",
   "execution_count": 6,
   "id": "2b8173e4",
   "metadata": {},
   "outputs": [
    {
     "name": "stdout",
     "output_type": "stream",
     "text": [
      "Created list: [1, 2, 3, 'Nisha']\n"
     ]
    }
   ],
   "source": [
    "tuple1 = (1, 2, 3,\"Nisha\")\n",
    "my_list = list(tuple1)\n",
    "print(\"Created list:\", my_list)"
   ]
  },
  {
   "cell_type": "code",
   "execution_count": 7,
   "id": "51489627",
   "metadata": {},
   "outputs": [
    {
     "name": "stdout",
     "output_type": "stream",
     "text": [
      "Maximum number: 9\n"
     ]
    }
   ],
   "source": [
    "numbers = [3, 7, 1, 9, 4]\n",
    "max_number = max(numbers) # Likewise min(), sum()\n",
    "print(\"Maximum number:\", max_number)\n"
   ]
  },
  {
   "cell_type": "code",
   "execution_count": 8,
   "id": "fee4b2c9",
   "metadata": {},
   "outputs": [
    {
     "name": "stdout",
     "output_type": "stream",
     "text": [
      "Sorted list: [1, 2, 5, 8, 9]\n"
     ]
    }
   ],
   "source": [
    "unsorted_list = [5, 2, 8, 1, 9]\n",
    "sorted_list = sorted(unsorted_list)\n",
    "print(\"Sorted list:\", sorted_list)"
   ]
  },
  {
   "cell_type": "markdown",
   "id": "10f433a1",
   "metadata": {},
   "source": [
    "## User-defined function"
   ]
  },
  {
   "cell_type": "code",
   "execution_count": 9,
   "id": "ba2aa878",
   "metadata": {},
   "outputs": [
    {
     "name": "stdout",
     "output_type": "stream",
     "text": [
      "Hello, My name is Nisha Pokharel.\n"
     ]
    }
   ],
   "source": [
    "#Calling function\n",
    "def my_fun():\n",
    "    print(\"Hello, My name is Nisha Pokharel.\")\n",
    "my_fun()\n"
   ]
  },
  {
   "cell_type": "markdown",
   "id": "8300af25",
   "metadata": {},
   "source": [
    "# Types of Python Function Arguments"
   ]
  },
  {
   "cell_type": "code",
   "execution_count": 10,
   "id": "916fc2a0",
   "metadata": {},
   "outputs": [],
   "source": [
    "### Default argument\n",
    "## Keyword arguments (named arguments)\n",
    "## Positional arguments\n",
    "## Arbitrary arguments (variable-length arguments *args and **kwargs)"
   ]
  },
  {
   "cell_type": "code",
   "execution_count": 11,
   "id": "ba96f4e5",
   "metadata": {},
   "outputs": [
    {
     "name": "stdout",
     "output_type": "stream",
     "text": [
      "11\n"
     ]
    }
   ],
   "source": [
    "#Arguments or Parameters\n",
    "def sum(a,b):\n",
    "    print(a+b)\n",
    "sum(5,6)"
   ]
  },
  {
   "cell_type": "code",
   "execution_count": 12,
   "id": "c64e936b",
   "metadata": {},
   "outputs": [
    {
     "name": "stdout",
     "output_type": "stream",
     "text": [
      "x:  10\n",
      "y:  50\n"
     ]
    }
   ],
   "source": [
    "# default arguments\n",
    "def myFun(x, y=50):\n",
    "    print(\"x: \", x)\n",
    "    print(\"y: \", y)\n",
    " \n",
    " \n",
    "# Driver code (We call myFun() with only\n",
    "# argument)\n",
    "myFun(10)"
   ]
  },
  {
   "cell_type": "code",
   "execution_count": 13,
   "id": "b80a9d1a",
   "metadata": {},
   "outputs": [
    {
     "name": "stdout",
     "output_type": "stream",
     "text": [
      "14\n"
     ]
    }
   ],
   "source": [
    "# Keyword Arguments\n",
    "# We can also send arguments with the key = value syntax.\n",
    "def sum(a,b,c,d):\n",
    "    z= a+b+c+d\n",
    "    print(z)\n",
    "sum(a=2,b=3,c=4,d=5)"
   ]
  },
  {
   "cell_type": "code",
   "execution_count": 14,
   "id": "8f05bfc8",
   "metadata": {},
   "outputs": [
    {
     "name": "stdout",
     "output_type": "stream",
     "text": [
      "Case-1:\n",
      "Hi, I am Nisha\n",
      "My age is  23\n",
      "\n",
      "Case-2:\n",
      "Hi, I am 20\n",
      "My age is  Garima\n"
     ]
    }
   ],
   "source": [
    "# Positional Arguments\n",
    "def nameAge(name, age):\n",
    "    print(\"Hi, I am\", name)\n",
    "    print(\"My age is \", age)\n",
    " \n",
    " \n",
    "# You will get correct output because\n",
    "# argument is given in order\n",
    "print(\"Case-1:\")\n",
    "nameAge(\"Nisha\", 23)\n",
    "# You will get incorrect output because\n",
    "# argument is not in order\n",
    "print(\"\\nCase-2:\")\n",
    "nameAge(20, \"Garima\")"
   ]
  },
  {
   "cell_type": "code",
   "execution_count": 15,
   "id": "7a48db58",
   "metadata": {},
   "outputs": [
    {
     "name": "stdout",
     "output_type": "stream",
     "text": [
      "5\n"
     ]
    }
   ],
   "source": [
    "# Arbitrary Arguments, *args\n",
    "# If the number of arguments is unknown, add a * before the parameter name\n",
    "def sum(*values):\n",
    "    print(values[0]+values[1])\n",
    "sum(2,3)"
   ]
  },
  {
   "cell_type": "code",
   "execution_count": 16,
   "id": "c9b70c44",
   "metadata": {},
   "outputs": [
    {
     "name": "stdout",
     "output_type": "stream",
     "text": [
      "Hello\n",
      "world\n"
     ]
    }
   ],
   "source": [
    "def myFun(*arg):\n",
    "    for a in arg:\n",
    "        print(a)\n",
    " \n",
    " \n",
    "myFun('Hello', 'world')"
   ]
  },
  {
   "cell_type": "code",
   "execution_count": 17,
   "id": "7615ce01",
   "metadata": {},
   "outputs": [
    {
     "name": "stdout",
     "output_type": "stream",
     "text": [
      "10\n"
     ]
    }
   ],
   "source": [
    "# Arbitrary Keyword Arguments, **kwargs\n",
    "# If you do not know how many keyword arguments that will be passed into your function, add two asterisk: ** before the parameter name in the function definition.\n",
    "def sum(**values):\n",
    "    print(values[\"a\"]+values[\"b\"])\n",
    "sum(a=4,b=6)"
   ]
  },
  {
   "cell_type": "code",
   "execution_count": 18,
   "id": "34c38369",
   "metadata": {},
   "outputs": [
    {
     "name": "stdout",
     "output_type": "stream",
     "text": [
      "50\n"
     ]
    }
   ],
   "source": [
    "# Default parameter value\n",
    "def mul(a,b,c=1):\n",
    "    z= a*b*c\n",
    "    print(z)\n",
    "mul(5,10)"
   ]
  },
  {
   "cell_type": "code",
   "execution_count": 19,
   "id": "4356b71a",
   "metadata": {},
   "outputs": [
    {
     "name": "stdout",
     "output_type": "stream",
     "text": [
      "Apple\n",
      "Mango\n",
      "Banana\n"
     ]
    }
   ],
   "source": [
    "# Passing a List as an Argument\n",
    "# You can send any data types of argument to a function (string, number, list, dictionary etc.), and it will be treated as the same data type inside the function.\n",
    "\n",
    "#E.g. if you send a List as an argument, it will still be a List when it reaches the function:\n",
    "def my_fun(fruits):\n",
    "    for x in fruits:\n",
    "        print(x)\n",
    "fruits = [\"Apple\",\"Mango\",\"Banana\"]\n",
    "my_fun(fruits)"
   ]
  },
  {
   "cell_type": "code",
   "execution_count": 20,
   "id": "8fd18c1c",
   "metadata": {},
   "outputs": [
    {
     "name": "stdout",
     "output_type": "stream",
     "text": [
      "4\n",
      "25\n",
      "81\n"
     ]
    }
   ],
   "source": [
    "# Return Values\n",
    "def mul(x):\n",
    "    return x*x\n",
    "print(mul(2))\n",
    "print(mul(5))\n",
    "print(mul(9))"
   ]
  },
  {
   "cell_type": "code",
   "execution_count": 21,
   "id": "e15019d9",
   "metadata": {},
   "outputs": [],
   "source": [
    "# The pass statement\n",
    "# function definitions cannot be empty, but if you for some reason have a function definition with no content,\n",
    "# put in the pass statement to avoid getting an error.\n",
    "def my_fun():\n",
    "    pass"
   ]
  },
  {
   "cell_type": "markdown",
   "id": "7ce14db1",
   "metadata": {},
   "source": [
    "## Docstring"
   ]
  },
  {
   "cell_type": "markdown",
   "id": "bc996463",
   "metadata": {},
   "source": [
    "- The first string after the function is called the Document string or Docstring in short."
   ]
  },
  {
   "cell_type": "code",
   "execution_count": 22,
   "id": "e95575ed",
   "metadata": {},
   "outputs": [
    {
     "name": "stdout",
     "output_type": "stream",
     "text": [
      "Enter the number: 7\n",
      "odd\n",
      "Function to check if the number is even or odd\n"
     ]
    }
   ],
   "source": [
    "# function to check if the number is even or odd\n",
    "def evenOdd(x):\n",
    "    \"\"\"Function to check if the number is even or odd\"\"\"\n",
    "    if (x % 2 == 0):\n",
    "        print(\"even\")\n",
    "    else:\n",
    "        print(\"odd\")\n",
    " \n",
    "a = int(input(\"Enter the number: \"))\n",
    "evenOdd(a)\n",
    "# Driver code to call the function\n",
    "print(evenOdd.__doc__)\n"
   ]
  },
  {
   "cell_type": "code",
   "execution_count": 23,
   "id": "49d8db2b",
   "metadata": {},
   "outputs": [
    {
     "name": "stdout",
     "output_type": "stream",
     "text": [
      "Enter the number: 4\n",
      "even\n",
      "Help on function evenOdd in module __main__:\n",
      "\n",
      "evenOdd(x)\n",
      "    Function to check if the number is even or odd\n",
      "\n",
      "None\n"
     ]
    }
   ],
   "source": [
    "def evenOdd(x):\n",
    "    \"\"\"Function to check if the number is even or odd\"\"\"\n",
    "    if (x % 2 == 0):\n",
    "        print(\"even\")\n",
    "    else:\n",
    "        print(\"odd\")\n",
    " \n",
    "a = int(input(\"Enter the number: \"))\n",
    "evenOdd(a)\n",
    "print(help(evenOdd))"
   ]
  },
  {
   "cell_type": "markdown",
   "id": "11bf6461",
   "metadata": {},
   "source": [
    "## Fibonacci Series"
   ]
  },
  {
   "cell_type": "code",
   "execution_count": 24,
   "id": "e55f4783",
   "metadata": {},
   "outputs": [
    {
     "name": "stdout",
     "output_type": "stream",
     "text": [
      "Enter the number of series you want to generate: 5\n",
      "Fibonacci Series of length 5: [0, 1, 1, 2, 3]\n"
     ]
    }
   ],
   "source": [
    "def febo(x):\n",
    "    if(x <= 0):\n",
    "        return []\n",
    "    elif (x == 1):\n",
    "        return [0]\n",
    "    elif (x == 2):\n",
    "        return [0,1]\n",
    "    else:\n",
    "        fib_series = febo(x-1)\n",
    "        fib_series.append(fib_series[-1] + fib_series[-2])\n",
    "        return fib_series\n",
    "a= int(input(\"Enter the number of series you want to generate: \"))\n",
    "series = febo(a)\n",
    "print(f\"Fibonacci Series of length {a}: {series}\") #f-string (formatted string literal)\n",
    "#It allows you to embed expressions within string literals. The expressions are enclosed within curly braces {}. When the string is evaluated, these expressions are replaced with their respective values."
   ]
  },
  {
   "cell_type": "markdown",
   "id": "f055db37",
   "metadata": {},
   "source": [
    "# Lambda - Anonymous Functions"
   ]
  },
  {
   "cell_type": "code",
   "execution_count": null,
   "id": "6dae8481",
   "metadata": {},
   "outputs": [],
   "source": []
  },
  {
   "cell_type": "markdown",
   "id": "ef392540",
   "metadata": {},
   "source": [
    "- In Python, an anonymous function means that a function is without a name.\n",
    "* A lambda function is a small anonymous function.\n",
    "* A lambda function can take any number of arguments, but can only have one expression."
   ]
  },
  {
   "cell_type": "code",
   "execution_count": 25,
   "id": "299c46bc",
   "metadata": {},
   "outputs": [
    {
     "name": "stdout",
     "output_type": "stream",
     "text": [
      "13\n"
     ]
    }
   ],
   "source": [
    "x = lambda a : a+10\n",
    "print(x(3))"
   ]
  },
  {
   "cell_type": "code",
   "execution_count": 26,
   "id": "c7435ecd",
   "metadata": {},
   "outputs": [
    {
     "name": "stdout",
     "output_type": "stream",
     "text": [
      "56\n"
     ]
    }
   ],
   "source": [
    "# Lambda functions can take any number of arguments:\n",
    "x = lambda b,c : b * c\n",
    "print(x(14,4))"
   ]
  },
  {
   "cell_type": "code",
   "execution_count": 27,
   "id": "47a15c18",
   "metadata": {},
   "outputs": [
    {
     "name": "stdout",
     "output_type": "stream",
     "text": [
      "15\n"
     ]
    }
   ],
   "source": [
    "def myfun(x):\n",
    "    return lambda a : a*x\n",
    "b = myfun(5)\n",
    "print(b(3))"
   ]
  },
  {
   "cell_type": "code",
   "execution_count": 28,
   "id": "a302a7a3",
   "metadata": {},
   "outputs": [
    {
     "name": "stdout",
     "output_type": "stream",
     "text": [
      "14\n",
      "21\n"
     ]
    }
   ],
   "source": [
    "def myfun(x):\n",
    "    return lambda a : a*x\n",
    "doubler = myfun(2)\n",
    "tripler = myfun(3)\n",
    "print(doubler(7))\n",
    "print(tripler(7))"
   ]
  },
  {
   "cell_type": "markdown",
   "id": "bb490dc5",
   "metadata": {},
   "source": [
    "## Python Function within Functions"
   ]
  },
  {
   "cell_type": "markdown",
   "id": "10f7e453",
   "metadata": {},
   "source": [
    "- A function that is defined inside another function is known as the inner function or nested function."
   ]
  },
  {
   "cell_type": "code",
   "execution_count": 29,
   "id": "35d0a7dd",
   "metadata": {},
   "outputs": [
    {
     "name": "stdout",
     "output_type": "stream",
     "text": [
      "Enter operation (add/subtract): add\n",
      "Enter the first number: 5\n",
      "Enter the second number: 9\n",
      "Result of add: 14\n"
     ]
    }
   ],
   "source": [
    "def calculator(operation):\n",
    "    def add(x, y):\n",
    "        return x + y\n",
    "    \n",
    "    def subtract(x, y):\n",
    "        return x - y\n",
    "    \n",
    "    if operation == \"add\":\n",
    "        return add\n",
    "    elif operation == \"subtract\":\n",
    "        return subtract\n",
    "    else:\n",
    "        print(\"Unsupported operation\")\n",
    "\n",
    "operation_choice = input(\"Enter operation (add/subtract): \")\n",
    "num1 = int(input(\"Enter the first number: \"))\n",
    "num2 = int(input(\"Enter the second number: \"))\n",
    "\n",
    "operation_function = calculator(operation_choice)\n",
    "\n",
    "if operation_function:\n",
    "    result = operation_function(num1, num2)\n",
    "    print(f\"Result of {operation_choice}: {result}\")\n"
   ]
  },
  {
   "cell_type": "markdown",
   "id": "a6674004",
   "metadata": {},
   "source": [
    "# Python Loops"
   ]
  },
  {
   "cell_type": "code",
   "execution_count": 30,
   "id": "5e541e48",
   "metadata": {},
   "outputs": [],
   "source": [
    "# Python has two primitive loop commands:\n",
    "# While loops\n",
    "# for loops"
   ]
  },
  {
   "cell_type": "code",
   "execution_count": 31,
   "id": "a2a387cf",
   "metadata": {},
   "outputs": [
    {
     "name": "stdout",
     "output_type": "stream",
     "text": [
      "Enter an integer: 9\n",
      "The number of even numbers from 1 to 9 is 4\n"
     ]
    }
   ],
   "source": [
    "# Counting even numbers using while loop\n",
    "num = int(input(\"Enter an integer: \"))\n",
    "count =0\n",
    "i=1\n",
    "while num >= i:\n",
    "    if i%2 == 0:\n",
    "        count=count+1\n",
    "    i=i+1\n",
    "print(f\"The number of even numbers from 1 to {num} is {count}\")\n",
    "\n"
   ]
  },
  {
   "cell_type": "code",
   "execution_count": null,
   "id": "4e865844",
   "metadata": {},
   "outputs": [],
   "source": []
  }
 ],
 "metadata": {
  "kernelspec": {
   "display_name": "Python 3 (ipykernel)",
   "language": "python",
   "name": "python3"
  },
  "language_info": {
   "codemirror_mode": {
    "name": "ipython",
    "version": 3
   },
   "file_extension": ".py",
   "mimetype": "text/x-python",
   "name": "python",
   "nbconvert_exporter": "python",
   "pygments_lexer": "ipython3",
   "version": "3.10.9"
  }
 },
 "nbformat": 4,
 "nbformat_minor": 5
}
