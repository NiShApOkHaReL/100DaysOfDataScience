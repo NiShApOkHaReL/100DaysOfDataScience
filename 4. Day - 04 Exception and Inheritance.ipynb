{
 "cells": [
  {
   "cell_type": "markdown",
   "id": "6f17a583",
   "metadata": {},
   "source": [
    "# Exception"
   ]
  },
  {
   "cell_type": "markdown",
   "id": "eccc2aaf",
   "metadata": {},
   "source": [
    "- An error is an issue in a program that prevents the program from completing its task. In comparison, an exception is a condition that interrupts the normal flow of the program. Both errors and exceptions are a type of runtime error, which means they occur during the execution of a program."
   ]
  },
  {
   "cell_type": "code",
   "execution_count": 1,
   "id": "60994197",
   "metadata": {},
   "outputs": [
    {
     "name": "stdout",
     "output_type": "stream",
     "text": [
      "Some problem may have occured\n"
     ]
    }
   ],
   "source": [
    "## Exception\n",
    "try:\n",
    "    ## code block where exception can occur\n",
    "    a = b\n",
    "except:\n",
    "    print(\"Some problem may have occured\")"
   ]
  },
  {
   "cell_type": "code",
   "execution_count": 2,
   "id": "a3087339",
   "metadata": {},
   "outputs": [
    {
     "name": "stdout",
     "output_type": "stream",
     "text": [
      "name 'b' is not defined\n"
     ]
    }
   ],
   "source": [
    "try:\n",
    "    ## code block where exception can occur\n",
    "    a = b\n",
    "except Exception as ex:\n",
    "    print(ex)"
   ]
  },
  {
   "cell_type": "code",
   "execution_count": 3,
   "id": "369b3f10",
   "metadata": {},
   "outputs": [
    {
     "name": "stdout",
     "output_type": "stream",
     "text": [
      "THe user have not defined the variable\n"
     ]
    }
   ],
   "source": [
    "try:\n",
    "    ## code block where exception can occur\n",
    "    a = b\n",
    "except NameError as ex1:\n",
    "    print(\"THe user have not defined the variable\")\n",
    "except Exception as ex:\n",
    "    print(ex)"
   ]
  },
  {
   "cell_type": "code",
   "execution_count": 4,
   "id": "ce5be8a8",
   "metadata": {},
   "outputs": [
    {
     "name": "stdout",
     "output_type": "stream",
     "text": [
      "unsupported operand type(s) for +: 'int' and 'str'\n"
     ]
    }
   ],
   "source": [
    "try:\n",
    "    ## code block where exception can occur\n",
    "    a = 1\n",
    "    b = \"S\"\n",
    "    c = a+b\n",
    "except NameError as ex1:\n",
    "    print(\"THe user have not defined the variable\")\n",
    "except Exception as ex:\n",
    "    print(ex)"
   ]
  },
  {
   "cell_type": "code",
   "execution_count": 5,
   "id": "74857715",
   "metadata": {},
   "outputs": [
    {
     "name": "stdout",
     "output_type": "stream",
     "text": [
      "Try to make the datatype similar\n"
     ]
    }
   ],
   "source": [
    "try:\n",
    "    ## code block where exception can occur\n",
    "    a = 1\n",
    "    b = \"S\"\n",
    "    c = a+b\n",
    "except NameError:\n",
    "    print(\"THe user have not defined the variable\")\n",
    "except TypeError:\n",
    "    print(\"Try to make the datatype similar\")\n",
    "except Exception as ex:\n",
    "    print(ex)"
   ]
  },
  {
   "cell_type": "code",
   "execution_count": 6,
   "id": "b63bb4d0",
   "metadata": {},
   "outputs": [
    {
     "name": "stdout",
     "output_type": "stream",
     "text": [
      "Enter the number 1 60\n",
      "Enter the number 2 0\n",
      "division by zero\n"
     ]
    }
   ],
   "source": [
    "try:\n",
    "    ## code block where exception can occur\n",
    "    a = int(input(\"Enter the number 1 \"))\n",
    "    b = int(input(\"Enter the number 2 \"))\n",
    "    c = a/b\n",
    "    d = a*b\n",
    "    e = a+b\n",
    "    print(c)\n",
    "    print(d)\n",
    "    print(e)\n",
    "except NameError:\n",
    "    print(\"THe user have not defined the variable\")\n",
    "except TypeError:\n",
    "    print(\"Try to make the datatype similar\")\n",
    "except Exception as ex:\n",
    "    print(ex)"
   ]
  },
  {
   "cell_type": "code",
   "execution_count": 7,
   "id": "acac07cd",
   "metadata": {},
   "outputs": [
    {
     "name": "stdout",
     "output_type": "stream",
     "text": [
      "Enter the number 1: 45\n",
      "Enter the number 2: 8\n",
      "5.625\n",
      "360\n",
      "53\n"
     ]
    }
   ],
   "source": [
    "try:\n",
    "    ## code block where exception can occur\n",
    "    a = int(input(\"Enter the number 1: \"))\n",
    "    b = int(input(\"Enter the number 2: \"))\n",
    "    c = a/b\n",
    "    d = a*b\n",
    "    e = a+b\n",
    "    print(c)\n",
    "    print(d)\n",
    "    print(e)\n",
    "except ZeroDivisionError:\n",
    "    print(\"Please provide number greater than 0\")\n",
    "except NameError:\n",
    "    print(\"THe user have not defined the variable\")\n",
    "except TypeError:\n",
    "    print(\"Try to make the datatype similar\")\n",
    "except Exception as ex: ## This is generic exception, which handles any exception.\n",
    "    print(ex)         ## Generic block should be written at the end of the exception"
   ]
  },
  {
   "cell_type": "code",
   "execution_count": 8,
   "id": "ab936e38",
   "metadata": {},
   "outputs": [
    {
     "name": "stdout",
     "output_type": "stream",
     "text": [
      "Enter the number 1: 34\n",
      "Enter the number 2: 0\n",
      "Please provide number greater than 0\n"
     ]
    }
   ],
   "source": [
    "## Try else\n",
    "try:\n",
    "    ## code block where exception can occur\n",
    "    a = int(input(\"Enter the number 1: \"))\n",
    "    b = int(input(\"Enter the number 2: \"))\n",
    "    c = a/b\n",
    "    d = a*b\n",
    "    e = a+b\n",
    "except ZeroDivisionError:\n",
    "    print(\"Please provide number greater than 0\")\n",
    "except NameError:\n",
    "    print(\"THe user have not defined the variable\")\n",
    "except TypeError:\n",
    "    print(\"Try to make the datatype similar\")\n",
    "except Exception as ex: \n",
    "    print(ex) \n",
    "else:\n",
    "     print(c)\n",
    "     print(d)\n",
    "     print(e)\n",
    "    "
   ]
  },
  {
   "cell_type": "code",
   "execution_count": 9,
   "id": "fea444ef",
   "metadata": {},
   "outputs": [
    {
     "name": "stdout",
     "output_type": "stream",
     "text": [
      "Enter the number 1: 33\n",
      "Enter the number 2: 0\n",
      "Please provide number greater than 0\n",
      "The execution is done!\n"
     ]
    }
   ],
   "source": [
    "try:   \n",
    "    ## code block where exception can occur\n",
    "    a = int(input(\"Enter the number 1: \"))\n",
    "    b = int(input(\"Enter the number 2: \"))\n",
    "    c = a/b\n",
    "except ZeroDivisionError:\n",
    "    print(\"Please provide number greater than 0\")\n",
    "except NameError:\n",
    "    print(\"THe user have not defined the variable\")\n",
    "except TypeError:\n",
    "    print(\"Try to make the datatype similar\")\n",
    "except Exception as ex: \n",
    "    print(ex) \n",
    "else:\n",
    "     print(c)\n",
    "finally:\n",
    "    print(\"The execution is done!\")\n",
    "    "
   ]
  },
  {
   "cell_type": "markdown",
   "id": "93d5977e",
   "metadata": {},
   "source": [
    "# Custom Exception"
   ]
  },
  {
   "cell_type": "markdown",
   "id": "856a345b",
   "metadata": {},
   "source": [
    "- Custom exceptions are used to customize the exception according to user needs."
   ]
  },
  {
   "cell_type": "code",
   "execution_count": 10,
   "id": "5f49c8c6",
   "metadata": {},
   "outputs": [],
   "source": [
    "class Error(Exception):\n",
    "    pass\n",
    "\n",
    "class dobException(Error):\n",
    "    pass\n",
    "\n",
    "class custom(Error):\n",
    "    pass"
   ]
  },
  {
   "cell_type": "code",
   "execution_count": 11,
   "id": "97f78e72",
   "metadata": {},
   "outputs": [
    {
     "name": "stdout",
     "output_type": "stream",
     "text": [
      "Enter the year of Birth 1999\n",
      "The age is valid. You can apply for the job.\n"
     ]
    }
   ],
   "source": [
    "year = int(input(\"Enter the year of Birth \"))\n",
    "age = 2023 - year\n",
    "try:\n",
    "    if age<=30 & age>20:\n",
    "        print(\"The age is valid. You can apply for the job.\")\n",
    "    else:\n",
    "        raise dobException\n",
    "except dobException:\n",
    "    print(\"THe age is not withing the range\")"
   ]
  },
  {
   "cell_type": "markdown",
   "id": "5c50b5f9",
   "metadata": {},
   "source": [
    "# Python OOPS - Inheritance"
   ]
  },
  {
   "cell_type": "markdown",
   "id": "2a5f3ae2",
   "metadata": {},
   "source": [
    "- Inheritance allows us to define a class that inherits all the methods and properties from another class.\n",
    "\n",
    "- Parent class is the class being inherited from, also called base class.\n",
    "\n",
    "- Child class is the class that inherits from another class, also called derived class."
   ]
  },
  {
   "cell_type": "code",
   "execution_count": 24,
   "id": "35de661f",
   "metadata": {},
   "outputs": [
    {
     "name": "stdout",
     "output_type": "stream",
     "text": [
      "This Toyota vehicle is driving.\n",
      "The Toyota car is honking.\n"
     ]
    }
   ],
   "source": [
    "# Parent class\n",
    "class Vehicle:\n",
    "    def __init__(self, brand):\n",
    "        self.brand = brand\n",
    "\n",
    "    def drive(self):\n",
    "        return f\"This {self.brand} vehicle is driving.\"\n",
    "\n",
    "# Child class inheriting from Vehicle\n",
    "class Car(Vehicle):\n",
    "    def honk(self):\n",
    "        return f\"The {self.brand} car is honking.\"\n",
    "\n",
    "# Creating instances\n",
    "car_instance = Car(\"Toyota\")\n",
    "\n",
    "# Using methods from both parent and child classes\n",
    "print(car_instance.drive())  \n",
    "print(car_instance.honk())   \n"
   ]
  },
  {
   "cell_type": "markdown",
   "id": "2e29e8b6",
   "metadata": {},
   "source": [
    "# The super() Function"
   ]
  },
  {
   "cell_type": "markdown",
   "id": "c11c6d56",
   "metadata": {},
   "source": [
    "- Python also has a super() function that will make the child class inherit all the methods and properties from its parent:\n",
    "- By using the super() function, you do not have to use the name of the parent element, it will automatically inherit the methods and properties from its parent."
   ]
  },
  {
   "cell_type": "code",
   "execution_count": 16,
   "id": "1b4b5d27",
   "metadata": {},
   "outputs": [],
   "source": [
    "class audi(Car):\n",
    "    def __init__(self, windows, doors,enginetype, enableai):\n",
    "       super().__init__(windows, doors, enginetype)\n",
    "       self.enableai = enableai\n",
    "    def selfdriving(self):\n",
    "        print(\"Audit supports Self driving\")"
   ]
  },
  {
   "cell_type": "code",
   "execution_count": 17,
   "id": "b109645a",
   "metadata": {},
   "outputs": [],
   "source": [
    "audiQ7 = audi(4,5,\"diesel\",True)"
   ]
  },
  {
   "cell_type": "code",
   "execution_count": 18,
   "id": "6fbfd503",
   "metadata": {},
   "outputs": [
    {
     "data": {
      "text/plain": [
       "['__class__',\n",
       " '__delattr__',\n",
       " '__dict__',\n",
       " '__dir__',\n",
       " '__doc__',\n",
       " '__eq__',\n",
       " '__format__',\n",
       " '__ge__',\n",
       " '__getattribute__',\n",
       " '__gt__',\n",
       " '__hash__',\n",
       " '__init__',\n",
       " '__init_subclass__',\n",
       " '__le__',\n",
       " '__lt__',\n",
       " '__module__',\n",
       " '__ne__',\n",
       " '__new__',\n",
       " '__reduce__',\n",
       " '__reduce_ex__',\n",
       " '__repr__',\n",
       " '__setattr__',\n",
       " '__sizeof__',\n",
       " '__str__',\n",
       " '__subclasshook__',\n",
       " '__weakref__',\n",
       " 'doors',\n",
       " 'drive',\n",
       " 'enableai',\n",
       " 'enginetype',\n",
       " 'selfdriving',\n",
       " 'windows']"
      ]
     },
     "execution_count": 18,
     "metadata": {},
     "output_type": "execute_result"
    }
   ],
   "source": [
    "dir(audiQ7)"
   ]
  },
  {
   "cell_type": "code",
   "execution_count": 19,
   "id": "1ab0c12c",
   "metadata": {},
   "outputs": [
    {
     "data": {
      "text/plain": [
       "4"
      ]
     },
     "execution_count": 19,
     "metadata": {},
     "output_type": "execute_result"
    }
   ],
   "source": [
    "audiQ7.windows"
   ]
  },
  {
   "cell_type": "code",
   "execution_count": 20,
   "id": "60754df4",
   "metadata": {},
   "outputs": [
    {
     "data": {
      "text/plain": [
       "True"
      ]
     },
     "execution_count": 20,
     "metadata": {},
     "output_type": "execute_result"
    }
   ],
   "source": [
    "audiQ7.enableai"
   ]
  },
  {
   "cell_type": "code",
   "execution_count": 23,
   "id": "2b46f59e",
   "metadata": {},
   "outputs": [
    {
     "name": "stdout",
     "output_type": "stream",
     "text": [
      "Welcome Nisha Pokharel to the class of 2024\n"
     ]
    }
   ],
   "source": [
    "class Person:\n",
    "  def __init__(self, fname, lname):\n",
    "    self.firstname = fname\n",
    "    self.lastname = lname\n",
    "\n",
    "  def printname(self):\n",
    "    print(self.firstname, self.lastname)\n",
    "\n",
    "class Student(Person):\n",
    "  def __init__(self, fname, lname, year):\n",
    "    super().__init__(fname, lname)\n",
    "    self.graduationyear = year\n",
    "\n",
    "  def welcome(self):\n",
    "    print(\"Welcome\", self.firstname, self.lastname, \"to the class of\", self.graduationyear)\n",
    "\n",
    "x = Student(\"Nisha\", \"Pokharel\", 2024)\n",
    "x.welcome()"
   ]
  },
  {
   "cell_type": "code",
   "execution_count": null,
   "id": "72e63250",
   "metadata": {},
   "outputs": [],
   "source": []
  }
 ],
 "metadata": {
  "kernelspec": {
   "display_name": "Python 3 (ipykernel)",
   "language": "python",
   "name": "python3"
  },
  "language_info": {
   "codemirror_mode": {
    "name": "ipython",
    "version": 3
   },
   "file_extension": ".py",
   "mimetype": "text/x-python",
   "name": "python",
   "nbconvert_exporter": "python",
   "pygments_lexer": "ipython3",
   "version": "3.10.9"
  }
 },
 "nbformat": 4,
 "nbformat_minor": 5
}
