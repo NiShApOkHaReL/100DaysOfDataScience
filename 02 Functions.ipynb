{
 "cells": [
  {
   "cell_type": "markdown",
   "id": "f5789f98",
   "metadata": {},
   "source": [
    "# Functions"
   ]
  },
  {
   "cell_type": "markdown",
   "id": "189dfe45",
   "metadata": {},
   "source": [
    "## Python Functions is a block of statements that return the specific task."
   ]
  },
  {
   "cell_type": "code",
   "execution_count": 1,
   "id": "c983fbf3",
   "metadata": {},
   "outputs": [],
   "source": [
    "#Creating function\n",
    "def my_fun():\n",
    "    print(\"Hello World!!\")"
   ]
  },
  {
   "cell_type": "markdown",
   "id": "88a5def6",
   "metadata": {},
   "source": [
    "## Some Benefits of Using Functions"
   ]
  },
  {
   "cell_type": "markdown",
   "id": "ef632998",
   "metadata": {},
   "source": [
    "Increase Code Readability,  \n",
    "Increase Code Reusability"
   ]
  },
  {
   "cell_type": "markdown",
   "id": "3fc5c46e",
   "metadata": {},
   "source": [
    "## Types of functions"
   ]
  },
  {
   "cell_type": "markdown",
   "id": "9e9dc2ce",
   "metadata": {},
   "source": [
    "- Built-in library function: These are Standard functions in Python that are available to use.\n",
    "- User-defined function: We can create our own functions based on our requirements."
   ]
  },
  {
   "cell_type": "markdown",
   "id": "3edc912a",
   "metadata": {},
   "source": [
    "## Built-in Functions"
   ]
  },
  {
   "cell_type": "code",
   "execution_count": 25,
   "id": "68353c39",
   "metadata": {},
   "outputs": [
    {
     "name": "stdout",
     "output_type": "stream",
     "text": [
      "Hello World\n"
     ]
    }
   ],
   "source": [
    "# Example of some Built-in functions\n",
    "print(\"Hello World\")"
   ]
  },
  {
   "cell_type": "code",
   "execution_count": 26,
   "id": "2a0050da",
   "metadata": {},
   "outputs": [
    {
     "name": "stdout",
     "output_type": "stream",
     "text": [
      "Lenght of string is:  14\n"
     ]
    }
   ],
   "source": [
    "str_len = len(\"Nisha Pokharel\")\n",
    "print(\"Lenght of string is: \", str_len)"
   ]
  },
  {
   "cell_type": "code",
   "execution_count": 27,
   "id": "aaa827ec",
   "metadata": {},
   "outputs": [
    {
     "name": "stdout",
     "output_type": "stream",
     "text": [
      "Type of the value: <class 'int'>\n"
     ]
    }
   ],
   "source": [
    "data_type = type(42)\n",
    "print(\"Type of the value:\", data_type)"
   ]
  },
  {
   "cell_type": "code",
   "execution_count": 31,
   "id": "57030624",
   "metadata": {},
   "outputs": [
    {
     "name": "stdout",
     "output_type": "stream",
     "text": [
      "Type of the value: <class 'str'>\n",
      "Converted integer: 23\n",
      "Type of the value: <class 'int'>\n"
     ]
    }
   ],
   "source": [
    "a = \"23\"\n",
    "print(\"Type of the value:\", type(a))\n",
    "number = int(a)\n",
    "print(\"Converted integer:\", number)\n",
    "print(\"Type of the value:\", type(number))"
   ]
  },
  {
   "cell_type": "code",
   "execution_count": 36,
   "id": "bf878990",
   "metadata": {},
   "outputs": [
    {
     "name": "stdout",
     "output_type": "stream",
     "text": [
      "Created list: [1, 2, 3, 'Nisha']\n"
     ]
    }
   ],
   "source": [
    "tuple1 = (1, 2, 3,\"Nisha\")\n",
    "my_list = list(tuple1)\n",
    "print(\"Created list:\", my_list)"
   ]
  },
  {
   "cell_type": "code",
   "execution_count": 37,
   "id": "5ac8e6d4",
   "metadata": {},
   "outputs": [
    {
     "name": "stdout",
     "output_type": "stream",
     "text": [
      "Maximum number: 9\n"
     ]
    }
   ],
   "source": [
    "numbers = [3, 7, 1, 9, 4]\n",
    "max_number = max(numbers) # Likewise min(), sum()\n",
    "print(\"Maximum number:\", max_number)\n"
   ]
  },
  {
   "cell_type": "code",
   "execution_count": 39,
   "id": "4cb8b14f",
   "metadata": {},
   "outputs": [
    {
     "name": "stdout",
     "output_type": "stream",
     "text": [
      "Sorted list: [1, 2, 5, 8, 9]\n"
     ]
    }
   ],
   "source": [
    "unsorted_list = [5, 2, 8, 1, 9]\n",
    "sorted_list = sorted(unsorted_list)\n",
    "print(\"Sorted list:\", sorted_list)"
   ]
  },
  {
   "cell_type": "markdown",
   "id": "a02be116",
   "metadata": {},
   "source": [
    "## User-defined function"
   ]
  },
  {
   "cell_type": "code",
   "execution_count": 2,
   "id": "0c7681f8",
   "metadata": {},
   "outputs": [
    {
     "name": "stdout",
     "output_type": "stream",
     "text": [
      "Hello, My name is Nisha Pokharel.\n"
     ]
    }
   ],
   "source": [
    "#Calling function\n",
    "def my_fun():\n",
    "    print(\"Hello, My name is Nisha Pokharel.\")\n",
    "my_fun()\n"
   ]
  },
  {
   "cell_type": "markdown",
   "id": "ca7271cd",
   "metadata": {},
   "source": [
    "# Types of Python Function Arguments"
   ]
  },
  {
   "cell_type": "code",
   "execution_count": 3,
   "id": "49c1392a",
   "metadata": {},
   "outputs": [],
   "source": [
    "### Default argument\n",
    "## Keyword arguments (named arguments)\n",
    "## Positional arguments\n",
    "## Arbitrary arguments (variable-length arguments *args and **kwargs)"
   ]
  },
  {
   "cell_type": "code",
   "execution_count": 4,
   "id": "5234ecb2",
   "metadata": {},
   "outputs": [
    {
     "name": "stdout",
     "output_type": "stream",
     "text": [
      "11\n"
     ]
    }
   ],
   "source": [
    "#Arguments or Parameters\n",
    "def sum(a,b):\n",
    "    print(a+b)\n",
    "sum(5,6)"
   ]
  },
  {
   "cell_type": "code",
   "execution_count": 5,
   "id": "9ac29f64",
   "metadata": {},
   "outputs": [
    {
     "name": "stdout",
     "output_type": "stream",
     "text": [
      "x:  10\n",
      "y:  50\n"
     ]
    }
   ],
   "source": [
    "# default arguments\n",
    "def myFun(x, y=50):\n",
    "    print(\"x: \", x)\n",
    "    print(\"y: \", y)\n",
    " \n",
    " \n",
    "# Driver code (We call myFun() with only\n",
    "# argument)\n",
    "myFun(10)"
   ]
  },
  {
   "cell_type": "code",
   "execution_count": 6,
   "id": "c5783c16",
   "metadata": {},
   "outputs": [
    {
     "name": "stdout",
     "output_type": "stream",
     "text": [
      "14\n"
     ]
    }
   ],
   "source": [
    "# Keyword Arguments\n",
    "# We can also send arguments with the key = value syntax.\n",
    "def sum(a,b,c,d):\n",
    "    z= a+b+c+d\n",
    "    print(z)\n",
    "sum(a=2,b=3,c=4,d=5)"
   ]
  },
  {
   "cell_type": "code",
   "execution_count": 7,
   "id": "67df8e8b",
   "metadata": {},
   "outputs": [
    {
     "name": "stdout",
     "output_type": "stream",
     "text": [
      "Case-1:\n",
      "Hi, I am Nisha\n",
      "My age is  23\n",
      "\n",
      "Case-2:\n",
      "Hi, I am 20\n",
      "My age is  Garima\n"
     ]
    }
   ],
   "source": [
    "# Positional Arguments\n",
    "def nameAge(name, age):\n",
    "    print(\"Hi, I am\", name)\n",
    "    print(\"My age is \", age)\n",
    " \n",
    " \n",
    "# You will get correct output because\n",
    "# argument is given in order\n",
    "print(\"Case-1:\")\n",
    "nameAge(\"Nisha\", 23)\n",
    "# You will get incorrect output because\n",
    "# argument is not in order\n",
    "print(\"\\nCase-2:\")\n",
    "nameAge(20, \"Garima\")"
   ]
  },
  {
   "cell_type": "code",
   "execution_count": 8,
   "id": "9169c8db",
   "metadata": {},
   "outputs": [
    {
     "name": "stdout",
     "output_type": "stream",
     "text": [
      "5\n"
     ]
    }
   ],
   "source": [
    "# Arbitrary Arguments, *args\n",
    "# If the number of arguments is unknown, add a * before the parameter name\n",
    "def sum(*values):\n",
    "    print(values[0]+values[1])\n",
    "sum(2,3)"
   ]
  },
  {
   "cell_type": "code",
   "execution_count": 9,
   "id": "b1bfd64e",
   "metadata": {},
   "outputs": [
    {
     "name": "stdout",
     "output_type": "stream",
     "text": [
      "Hello\n",
      "world\n"
     ]
    }
   ],
   "source": [
    "def myFun(*arg):\n",
    "    for a in arg:\n",
    "        print(a)\n",
    " \n",
    " \n",
    "myFun('Hello', 'world')"
   ]
  },
  {
   "cell_type": "code",
   "execution_count": 10,
   "id": "62db6b8a",
   "metadata": {},
   "outputs": [
    {
     "name": "stdout",
     "output_type": "stream",
     "text": [
      "10\n"
     ]
    }
   ],
   "source": [
    "# Arbitrary Keyword Arguments, **kwargs\n",
    "# If you do not know how many keyword arguments that will be passed into your function, add two asterisk: ** before the parameter name in the function definition.\n",
    "def sum(**values):\n",
    "    print(values[\"a\"]+values[\"b\"])\n",
    "sum(a=4,b=6)"
   ]
  },
  {
   "cell_type": "code",
   "execution_count": 11,
   "id": "069232b4",
   "metadata": {},
   "outputs": [
    {
     "name": "stdout",
     "output_type": "stream",
     "text": [
      "50\n"
     ]
    }
   ],
   "source": [
    "# Default parameter value\n",
    "def mul(a,b,c=1):\n",
    "    z= a*b*c\n",
    "    print(z)\n",
    "mul(5,10)"
   ]
  },
  {
   "cell_type": "code",
   "execution_count": 12,
   "id": "2d2bf109",
   "metadata": {},
   "outputs": [
    {
     "name": "stdout",
     "output_type": "stream",
     "text": [
      "Apple\n",
      "Mango\n",
      "Banana\n"
     ]
    }
   ],
   "source": [
    "# Passing a List as an Argument\n",
    "# You can send any data types of argument to a function (string, number, list, dictionary etc.), and it will be treated as the same data type inside the function.\n",
    "\n",
    "#E.g. if you send a List as an argument, it will still be a List when it reaches the function:\n",
    "def my_fun(fruits):\n",
    "    for x in fruits:\n",
    "        print(x)\n",
    "fruits = [\"Apple\",\"Mango\",\"Banana\"]\n",
    "my_fun(fruits)"
   ]
  },
  {
   "cell_type": "code",
   "execution_count": 13,
   "id": "21eff8dc",
   "metadata": {},
   "outputs": [
    {
     "name": "stdout",
     "output_type": "stream",
     "text": [
      "4\n",
      "25\n",
      "81\n"
     ]
    }
   ],
   "source": [
    "# Return Values\n",
    "def mul(x):\n",
    "    return x*x\n",
    "print(mul(2))\n",
    "print(mul(5))\n",
    "print(mul(9))"
   ]
  },
  {
   "cell_type": "code",
   "execution_count": 14,
   "id": "1f0779b0",
   "metadata": {},
   "outputs": [],
   "source": [
    "# The pass statement\n",
    "# function definitions cannot be empty, but if you for some reason have a function definition with no content,\n",
    "# put in the pass statement to avoid getting an error.\n",
    "def my_fun():\n",
    "    pass"
   ]
  },
  {
   "cell_type": "markdown",
   "id": "0853cc3d",
   "metadata": {},
   "source": [
    "## Docstring"
   ]
  },
  {
   "cell_type": "markdown",
   "id": "d31c0b0c",
   "metadata": {},
   "source": [
    "- The first string after the function is called the Document string or Docstring in short."
   ]
  },
  {
   "cell_type": "code",
   "execution_count": 15,
   "id": "f282123a",
   "metadata": {},
   "outputs": [
    {
     "name": "stdout",
     "output_type": "stream",
     "text": [
      "Enter the number: 5\n",
      "odd\n",
      "Function to check if the number is even or odd\n"
     ]
    }
   ],
   "source": [
    "# function to check if the number is even or odd\n",
    "def evenOdd(x):\n",
    "    \"\"\"Function to check if the number is even or odd\"\"\"\n",
    "    if (x % 2 == 0):\n",
    "        print(\"even\")\n",
    "    else:\n",
    "        print(\"odd\")\n",
    " \n",
    "a = int(input(\"Enter the number: \"))\n",
    "evenOdd(a)\n",
    "# Driver code to call the function\n",
    "print(evenOdd.__doc__)\n"
   ]
  },
  {
   "cell_type": "code",
   "execution_count": 16,
   "id": "f0bf9d44",
   "metadata": {},
   "outputs": [
    {
     "name": "stdout",
     "output_type": "stream",
     "text": [
      "Enter the number: 8\n",
      "even\n",
      "Help on function evenOdd in module __main__:\n",
      "\n",
      "evenOdd(x)\n",
      "    Function to check if the number is even or odd\n",
      "\n",
      "None\n"
     ]
    }
   ],
   "source": [
    "def evenOdd(x):\n",
    "    \"\"\"Function to check if the number is even or odd\"\"\"\n",
    "    if (x % 2 == 0):\n",
    "        print(\"even\")\n",
    "    else:\n",
    "        print(\"odd\")\n",
    " \n",
    "a = int(input(\"Enter the number: \"))\n",
    "evenOdd(a)\n",
    "print(help(evenOdd))"
   ]
  },
  {
   "cell_type": "markdown",
   "id": "924f56ec",
   "metadata": {},
   "source": [
    "## Fibonacci Series"
   ]
  },
  {
   "cell_type": "code",
   "execution_count": 17,
   "id": "a6538c6f",
   "metadata": {},
   "outputs": [
    {
     "name": "stdout",
     "output_type": "stream",
     "text": [
      "Enter the number of series you want to generate: 5\n",
      "Fibonacci Series of length 5: [0, 1, 1, 2, 3]\n"
     ]
    }
   ],
   "source": [
    "def febo(x):\n",
    "    if(x <= 0):\n",
    "        return []\n",
    "    elif (x == 1):\n",
    "        return [0]\n",
    "    elif (x == 2):\n",
    "        return [0,1]\n",
    "    else:\n",
    "        fib_series = febo(x-1)\n",
    "        fib_series.append(fib_series[-1] + fib_series[-2])\n",
    "        return fib_series\n",
    "a= int(input(\"Enter the number of series you want to generate: \"))\n",
    "series = febo(a)\n",
    "print(f\"Fibonacci Series of length {a}: {series}\") #f-string (formatted string literal)\n",
    "#It allows you to embed expressions within string literals. The expressions are enclosed within curly braces {}. When the string is evaluated, these expressions are replaced with their respective values."
   ]
  },
  {
   "cell_type": "markdown",
   "id": "3b4ee129",
   "metadata": {},
   "source": [
    "# Lambda - Anonymous Functions"
   ]
  },
  {
   "cell_type": "code",
   "execution_count": null,
   "id": "1b27a6d4",
   "metadata": {},
   "outputs": [],
   "source": []
  },
  {
   "cell_type": "markdown",
   "id": "9532156f",
   "metadata": {},
   "source": [
    "- In Python, an anonymous function means that a function is without a name.\n",
    "* A lambda function is a small anonymous function.\n",
    "* A lambda function can take any number of arguments, but can only have one expression."
   ]
  },
  {
   "cell_type": "code",
   "execution_count": 18,
   "id": "a0f4d89e",
   "metadata": {},
   "outputs": [
    {
     "name": "stdout",
     "output_type": "stream",
     "text": [
      "13\n"
     ]
    }
   ],
   "source": [
    "x = lambda a : a+10\n",
    "print(x(3))"
   ]
  },
  {
   "cell_type": "code",
   "execution_count": 19,
   "id": "f697dfbc",
   "metadata": {},
   "outputs": [
    {
     "name": "stdout",
     "output_type": "stream",
     "text": [
      "56\n"
     ]
    }
   ],
   "source": [
    "# Lambda functions can take any number of arguments:\n",
    "x = lambda b,c : b * c\n",
    "print(x(14,4))"
   ]
  },
  {
   "cell_type": "code",
   "execution_count": 20,
   "id": "6d55ee2c",
   "metadata": {},
   "outputs": [
    {
     "name": "stdout",
     "output_type": "stream",
     "text": [
      "15\n"
     ]
    }
   ],
   "source": [
    "def myfun(x):\n",
    "    return lambda a : a*x\n",
    "b = myfun(5)\n",
    "print(b(3))"
   ]
  },
  {
   "cell_type": "code",
   "execution_count": 21,
   "id": "e0140051",
   "metadata": {},
   "outputs": [
    {
     "name": "stdout",
     "output_type": "stream",
     "text": [
      "14\n",
      "21\n"
     ]
    }
   ],
   "source": [
    "def myfun(x):\n",
    "    return lambda a : a*x\n",
    "doubler = myfun(2)\n",
    "tripler = myfun(3)\n",
    "print(doubler(7))\n",
    "print(tripler(7))"
   ]
  },
  {
   "cell_type": "markdown",
   "id": "94c2d9ed",
   "metadata": {},
   "source": [
    "## Python Function within Functions"
   ]
  },
  {
   "cell_type": "markdown",
   "id": "18d56d66",
   "metadata": {},
   "source": [
    "- A function that is defined inside another function is known as the inner function or nested function."
   ]
  },
  {
   "cell_type": "code",
   "execution_count": 22,
   "id": "0dd38a94",
   "metadata": {},
   "outputs": [
    {
     "name": "stdout",
     "output_type": "stream",
     "text": [
      "Enter operation (add/subtract): add\n",
      "Enter the first number: 4\n",
      "Enter the second number: 7\n",
      "Result of add: 11\n"
     ]
    }
   ],
   "source": [
    "def calculator(operation):\n",
    "    def add(x, y):\n",
    "        return x + y\n",
    "    \n",
    "    def subtract(x, y):\n",
    "        return x - y\n",
    "    \n",
    "    if operation == \"add\":\n",
    "        return add\n",
    "    elif operation == \"subtract\":\n",
    "        return subtract\n",
    "    else:\n",
    "        print(\"Unsupported operation\")\n",
    "\n",
    "operation_choice = input(\"Enter operation (add/subtract): \")\n",
    "num1 = int(input(\"Enter the first number: \"))\n",
    "num2 = int(input(\"Enter the second number: \"))\n",
    "\n",
    "operation_function = calculator(operation_choice)\n",
    "\n",
    "if operation_function:\n",
    "    result = operation_function(num1, num2)\n",
    "    print(f\"Result of {operation_choice}: {result}\")\n"
   ]
  },
  {
   "cell_type": "markdown",
   "id": "614f4639",
   "metadata": {},
   "source": [
    "# Python Loops"
   ]
  },
  {
   "cell_type": "code",
   "execution_count": 23,
   "id": "323ff17d",
   "metadata": {},
   "outputs": [],
   "source": [
    "# Python has two primitive loop commands:\n",
    "# While loops\n",
    "# for loops"
   ]
  },
  {
   "cell_type": "code",
   "execution_count": 24,
   "id": "7fa0c631",
   "metadata": {},
   "outputs": [
    {
     "name": "stdout",
     "output_type": "stream",
     "text": [
      "Enter an integer: 7\n",
      "The number of even numbers from 1 to 7 is 3\n"
     ]
    }
   ],
   "source": [
    "# Counting even numbers using while loop\n",
    "num = int(input(\"Enter an integer: \"))\n",
    "count =0\n",
    "i=1\n",
    "while num >= i:\n",
    "    if i%2 == 0:\n",
    "        count=count+1\n",
    "    i=i+1\n",
    "print(f\"The number of even numbers from 1 to {num} is {count}\")\n",
    "\n"
   ]
  },
  {
   "cell_type": "code",
   "execution_count": null,
   "id": "2cae4306",
   "metadata": {},
   "outputs": [],
   "source": []
  }
 ],
 "metadata": {
  "kernelspec": {
   "display_name": "Python 3 (ipykernel)",
   "language": "python",
   "name": "python3"
  },
  "language_info": {
   "codemirror_mode": {
    "name": "ipython",
    "version": 3
   },
   "file_extension": ".py",
   "mimetype": "text/x-python",
   "name": "python",
   "nbconvert_exporter": "python",
   "pygments_lexer": "ipython3",
   "version": "3.10.9"
  }
 },
 "nbformat": 4,
 "nbformat_minor": 5
}
