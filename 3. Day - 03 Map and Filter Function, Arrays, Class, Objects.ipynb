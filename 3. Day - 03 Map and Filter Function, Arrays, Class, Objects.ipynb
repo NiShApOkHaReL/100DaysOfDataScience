{
 "cells": [
  {
   "cell_type": "markdown",
   "id": "636de37f",
   "metadata": {},
   "source": [
    "# Map() Function"
   ]
  },
  {
   "cell_type": "markdown",
   "id": "153270ed",
   "metadata": {},
   "source": [
    "- map() function returns a map object(which is an iterator) of the results after applying the given function to each item of a given iterable (list, tuple etc.)"
   ]
  },
  {
   "cell_type": "code",
   "execution_count": 1,
   "id": "5361a6a7",
   "metadata": {},
   "outputs": [
    {
     "name": "stdout",
     "output_type": "stream",
     "text": [
      "[1, 4, 9, 16, 25]\n"
     ]
    }
   ],
   "source": [
    "def square(x):\n",
    "    return x*x\n",
    "numbers = [1,2,3,4,5]\n",
    "result = map(square, numbers)\n",
    "print(list(result))"
   ]
  },
  {
   "cell_type": "code",
   "execution_count": 2,
   "id": "43bf420d",
   "metadata": {},
   "outputs": [
    {
     "name": "stdout",
     "output_type": "stream",
     "text": [
      "[1, 4, 9, 16, 25]\n"
     ]
    }
   ],
   "source": [
    "# Double all numbers using map and lambda\n",
    "numbers = [1,2,3,4,5]\n",
    "result = map(lambda x: x * x, numbers)\n",
    "print(list(result))"
   ]
  },
  {
   "cell_type": "code",
   "execution_count": 3,
   "id": "9d7be18a",
   "metadata": {},
   "outputs": [
    {
     "name": "stdout",
     "output_type": "stream",
     "text": [
      "[7, 9, 11, 13, 15]\n"
     ]
    }
   ],
   "source": [
    "# Adding two lists using map and lambda\n",
    "\n",
    "a = [1,2,3,4,5]\n",
    "b = [6,7,8,9,10]\n",
    "\n",
    "result = map(lambda x,y: x+y, a, b)\n",
    "print(list(result))"
   ]
  },
  {
   "cell_type": "code",
   "execution_count": 4,
   "id": "e992e8fd",
   "metadata": {},
   "outputs": [
    {
     "name": "stdout",
     "output_type": "stream",
     "text": [
      "[['N', 'i', 's', 'h', 'a'], ['G', 'a', 'r', 'i', 'm', 'a']]\n"
     ]
    }
   ],
   "source": [
    "a = ['Nisha', 'Garima']\n",
    "# map() can listify the list of strings individually\n",
    "result = list(map(list,a))\n",
    "print(result)"
   ]
  },
  {
   "cell_type": "code",
   "execution_count": 5,
   "id": "9a7d2ebb",
   "metadata": {},
   "outputs": [
    {
     "name": "stdout",
     "output_type": "stream",
     "text": [
      "[1, 4, 3, 8, 5, 12, 7, 16, 9]\n"
     ]
    }
   ],
   "source": [
    "# Define a function that doubles even numbers and leaves odd numbers as it is\n",
    "def double(x):\n",
    "    if (x%2 == 0):\n",
    "        return x*2\n",
    "    else:\n",
    "        return x\n",
    "l1 = (1,2,3,4,5,6,7,8,9)\n",
    "result = list(map(double,l1))\n",
    "print(result)"
   ]
  },
  {
   "cell_type": "markdown",
   "id": "da6e9a62",
   "metadata": {},
   "source": [
    "# Filter Function"
   ]
  },
  {
   "cell_type": "code",
   "execution_count": 6,
   "id": "08e2b991",
   "metadata": {},
   "outputs": [
    {
     "name": "stdout",
     "output_type": "stream",
     "text": [
      "[2, 4, 6, 8]\n"
     ]
    }
   ],
   "source": [
    "def even(num):\n",
    "    if num%2==0:\n",
    "        return True\n",
    "\n",
    "lst = [1,2,3,4,5,6,7,8,9]\n",
    "result = list(filter(even,lst))\n",
    "print(result)"
   ]
  },
  {
   "cell_type": "code",
   "execution_count": 7,
   "id": "49899712",
   "metadata": {},
   "outputs": [
    {
     "data": {
      "text/plain": [
       "[10, 12, 14, 16, 18]"
      ]
     },
     "execution_count": 7,
     "metadata": {},
     "output_type": "execute_result"
    }
   ],
   "source": [
    "lst1 = [10,11,12,13,14,15,16,17,18,19]\n",
    "list(filter(lambda x:x%2==0,lst1))"
   ]
  },
  {
   "cell_type": "code",
   "execution_count": 8,
   "id": "4676c607",
   "metadata": {},
   "outputs": [
    {
     "data": {
      "text/plain": [
       "[True, False, True, False, True, False, True, False, True, False]"
      ]
     },
     "execution_count": 8,
     "metadata": {},
     "output_type": "execute_result"
    }
   ],
   "source": [
    "list(map(lambda x:x%2==0,lst1))"
   ]
  },
  {
   "cell_type": "markdown",
   "id": "9c2a27e9",
   "metadata": {},
   "source": [
    "# Python Arrays"
   ]
  },
  {
   "cell_type": "markdown",
   "id": "655feaaa",
   "metadata": {},
   "source": [
    "- Python does not have built-in support for Arrays, but Python Lists can be used instead."
   ]
  },
  {
   "cell_type": "code",
   "execution_count": 9,
   "id": "aba57666",
   "metadata": {},
   "outputs": [
    {
     "name": "stdout",
     "output_type": "stream",
     "text": [
      "Apple\n"
     ]
    }
   ],
   "source": [
    "fruits = [\"Apple\", \"Orange\", \"Mango\"]\n",
    "print(fruits[0])"
   ]
  },
  {
   "cell_type": "code",
   "execution_count": 10,
   "id": "a2ff17b3",
   "metadata": {},
   "outputs": [
    {
     "name": "stdout",
     "output_type": "stream",
     "text": [
      "3\n"
     ]
    }
   ],
   "source": [
    "x = len(fruits)\n",
    "print(x)"
   ]
  },
  {
   "cell_type": "code",
   "execution_count": 11,
   "id": "42bb6721",
   "metadata": {},
   "outputs": [
    {
     "name": "stdout",
     "output_type": "stream",
     "text": [
      "['Apple', 'Orange', 'Mango', 'Papaya']\n"
     ]
    }
   ],
   "source": [
    "fruits.append(\"Papaya\")\n",
    "print(fruits)"
   ]
  },
  {
   "cell_type": "code",
   "execution_count": 12,
   "id": "1994705e",
   "metadata": {},
   "outputs": [
    {
     "name": "stdout",
     "output_type": "stream",
     "text": [
      "['Watermelon', 'Orange', 'Mango', 'Papaya']\n"
     ]
    }
   ],
   "source": [
    "fruits[0] = \"Watermelon\"\n",
    "print(fruits)"
   ]
  },
  {
   "cell_type": "code",
   "execution_count": 13,
   "id": "27d4f09c",
   "metadata": {},
   "outputs": [
    {
     "name": "stdout",
     "output_type": "stream",
     "text": [
      "Watermelon\n",
      "Orange\n",
      "Mango\n",
      "Papaya\n"
     ]
    }
   ],
   "source": [
    "## Looping the array elements\n",
    "## You can use the for in loop to loop through all the elements of an array.\n",
    "for x in fruits:\n",
    "    print(x)"
   ]
  },
  {
   "cell_type": "code",
   "execution_count": 14,
   "id": "6f5965d8",
   "metadata": {},
   "outputs": [
    {
     "name": "stdout",
     "output_type": "stream",
     "text": [
      "['Watermelon', 'Mango', 'Papaya']\n"
     ]
    }
   ],
   "source": [
    "fruits.pop(1)\n",
    "print(fruits)"
   ]
  },
  {
   "cell_type": "code",
   "execution_count": 15,
   "id": "cb86119f",
   "metadata": {},
   "outputs": [
    {
     "name": "stdout",
     "output_type": "stream",
     "text": [
      "['Watermelon', 'Papaya']\n"
     ]
    }
   ],
   "source": [
    "fruits.remove(\"Mango\")\n",
    "print(fruits)"
   ]
  },
  {
   "cell_type": "markdown",
   "id": "e7f622c3",
   "metadata": {},
   "source": [
    "# Array Methods"
   ]
  },
  {
   "cell_type": "markdown",
   "id": "a716e196",
   "metadata": {},
   "source": [
    "## Python has a set of built-in methods that we can use on lists/arrays.\n",
    "\n"
   ]
  },
  {
   "cell_type": "markdown",
   "id": "62a035fc",
   "metadata": {},
   "source": [
    "- append() Adds an element at the end of the list\n",
    "- clear() Removes all the elements from the list\n",
    "- copy() Returns a copy of the list\n",
    "- count() Returns the number of elements with the specified value\n",
    "- extend() Add the elements of a list (or any iterable), to the end of the current list\n",
    "- index() Returns the index of the first element with the specified value\n",
    "- insert() Adds an element at the specified position\n",
    "- pop() Removes the element at the specified position\n",
    "- remove() Removes the first item with the specified value\n",
    "- reverse() Reverses the order of the list\n",
    "- sort() Sorts the list"
   ]
  },
  {
   "cell_type": "markdown",
   "id": "e2fcf87d",
   "metadata": {},
   "source": [
    "# Python Class and Objects"
   ]
  },
  {
   "cell_type": "markdown",
   "id": "3bd8b6bd",
   "metadata": {},
   "source": [
    "- Python is an object oriented programming language.\n",
    "- A Class is like an object constructor, or a \"blueprint\" for creating objects."
   ]
  },
  {
   "cell_type": "code",
   "execution_count": 16,
   "id": "00af53da",
   "metadata": {},
   "outputs": [],
   "source": [
    "# Creating Class\n",
    "class Myclass:\n",
    "    x=10"
   ]
  },
  {
   "cell_type": "code",
   "execution_count": 17,
   "id": "5de6260e",
   "metadata": {},
   "outputs": [
    {
     "name": "stdout",
     "output_type": "stream",
     "text": [
      "10\n"
     ]
    }
   ],
   "source": [
    "# Create Object\n",
    "p1 = Myclass()\n",
    "print(p1.x)"
   ]
  },
  {
   "cell_type": "markdown",
   "id": "a6693e1e",
   "metadata": {},
   "source": [
    "# The __init__() Function"
   ]
  },
  {
   "cell_type": "code",
   "execution_count": 18,
   "id": "b0723250",
   "metadata": {},
   "outputs": [
    {
     "name": "stdout",
     "output_type": "stream",
     "text": [
      "Nisha\n",
      "23\n"
     ]
    }
   ],
   "source": [
    "class Person:\n",
    "    def __init__(self, name, age): # inbuilt python Constructor\n",
    "        self.name = name\n",
    "        self.age = age\n",
    "p1 = Person(\"Nisha\", 23) # Creating object p1 of class Person\n",
    "\n",
    "print(p1.name)\n",
    "print(p1.age)"
   ]
  },
  {
   "cell_type": "markdown",
   "id": "71a3f2cf",
   "metadata": {},
   "source": [
    "- A constructor in programming, including in object-oriented languages like Python, is a special method that gets called when an object is being created or instantiated from a class. Its primary purpose is to initialize the object's attributes or perform any necessary setup for the object."
   ]
  },
  {
   "cell_type": "markdown",
   "id": "3a60d1d9",
   "metadata": {},
   "source": [
    "# The __str__() Function"
   ]
  },
  {
   "cell_type": "code",
   "execution_count": 19,
   "id": "1f868578",
   "metadata": {},
   "outputs": [
    {
     "name": "stdout",
     "output_type": "stream",
     "text": [
      "<__main__.Person object at 0x00000232006B5CC0>\n"
     ]
    }
   ],
   "source": [
    "# The string representation of an object WITHOUT the __str__() function:\n",
    "class Person:\n",
    "    def __init__(self,name,age):\n",
    "        self.name =name\n",
    "        self.age = age\n",
    "        \n",
    "p1 = Person(\"Garima\", 20)\n",
    "print(p1)"
   ]
  },
  {
   "cell_type": "code",
   "execution_count": 20,
   "id": "aa12ff90",
   "metadata": {},
   "outputs": [
    {
     "name": "stdout",
     "output_type": "stream",
     "text": [
      "Harry(24)\n"
     ]
    }
   ],
   "source": [
    "# The string representation of an object WITH the __str__() function:\n",
    "class Person:\n",
    "    def __init__(self, name, age):\n",
    "        self.name = name\n",
    "        self.age = age\n",
    "    \n",
    "    def __str__(self):\n",
    "        return f\"{self.name}({self.age})\"\n",
    "    \n",
    "p1 = Person(\"Harry\", 24)\n",
    "print(p1)"
   ]
  },
  {
   "cell_type": "markdown",
   "id": "479d04fc",
   "metadata": {},
   "source": [
    "# Object Methods"
   ]
  },
  {
   "cell_type": "code",
   "execution_count": 21,
   "id": "0f342a02",
   "metadata": {},
   "outputs": [
    {
     "name": "stdout",
     "output_type": "stream",
     "text": [
      "2344\n"
     ]
    }
   ],
   "source": [
    "class concat:\n",
    "    def __init__(self, a, b):\n",
    "        self.a = a\n",
    "        self.b = b\n",
    "        \n",
    "    def myfun(self):\n",
    "        print(self.a+self.b)\n",
    "a = concat(\"23\",\"44\")\n",
    "a.myfun()"
   ]
  },
  {
   "cell_type": "markdown",
   "id": "3a5e3025",
   "metadata": {},
   "source": [
    "# The self Parameter"
   ]
  },
  {
   "cell_type": "markdown",
   "id": "a6f33198",
   "metadata": {},
   "source": [
    "- The self parameter is a reference to the current instance of the class, and is used to access variables that belongs to the class.\n",
    "- It does not have to be named self , you can call it whatever you like, but it has to be the first parameter of any function in the class:"
   ]
  },
  {
   "cell_type": "code",
   "execution_count": 22,
   "id": "92e83e33",
   "metadata": {},
   "outputs": [
    {
     "name": "stdout",
     "output_type": "stream",
     "text": [
      "Hello my name is Johnand age is 36\n"
     ]
    }
   ],
   "source": [
    "class Person:\n",
    "  def __init__(myobject, name, age):\n",
    "    myobject.name = name\n",
    "    myobject.age = age\n",
    "\n",
    "  def myfunc(abc):\n",
    "    print(\"Hello my name is \" + abc.name + \"and age is \" + str(abc.age))\n",
    "\n",
    "p1 = Person(\"John\", 36)\n",
    "p1.myfunc()"
   ]
  },
  {
   "cell_type": "markdown",
   "id": "6d686e37",
   "metadata": {},
   "source": [
    "# Modify Object Properties"
   ]
  },
  {
   "cell_type": "code",
   "execution_count": 23,
   "id": "0a124977",
   "metadata": {},
   "outputs": [],
   "source": [
    "p1.age = 40"
   ]
  },
  {
   "cell_type": "code",
   "execution_count": 24,
   "id": "5c025c77",
   "metadata": {},
   "outputs": [
    {
     "name": "stdout",
     "output_type": "stream",
     "text": [
      "Hello my name is Johnand age is 40\n"
     ]
    }
   ],
   "source": [
    "p1.myfunc()"
   ]
  },
  {
   "cell_type": "markdown",
   "id": "395bee1b",
   "metadata": {},
   "source": [
    "# Delete Object Properties\n"
   ]
  },
  {
   "cell_type": "code",
   "execution_count": 25,
   "id": "bdf09af8",
   "metadata": {},
   "outputs": [],
   "source": [
    "del p1.age"
   ]
  },
  {
   "cell_type": "code",
   "execution_count": 26,
   "id": "69d6ecb8",
   "metadata": {},
   "outputs": [
    {
     "ename": "AttributeError",
     "evalue": "'Person' object has no attribute 'age'",
     "output_type": "error",
     "traceback": [
      "\u001b[1;31m---------------------------------------------------------------------------\u001b[0m",
      "\u001b[1;31mAttributeError\u001b[0m                            Traceback (most recent call last)",
      "Cell \u001b[1;32mIn[26], line 1\u001b[0m\n\u001b[1;32m----> 1\u001b[0m \u001b[43mp1\u001b[49m\u001b[38;5;241;43m.\u001b[39;49m\u001b[43mmyfunc\u001b[49m\u001b[43m(\u001b[49m\u001b[43m)\u001b[49m\n",
      "Cell \u001b[1;32mIn[22], line 7\u001b[0m, in \u001b[0;36mPerson.myfunc\u001b[1;34m(abc)\u001b[0m\n\u001b[0;32m      6\u001b[0m \u001b[38;5;28;01mdef\u001b[39;00m \u001b[38;5;21mmyfunc\u001b[39m(abc):\n\u001b[1;32m----> 7\u001b[0m   \u001b[38;5;28mprint\u001b[39m(\u001b[38;5;124m\"\u001b[39m\u001b[38;5;124mHello my name is \u001b[39m\u001b[38;5;124m\"\u001b[39m \u001b[38;5;241m+\u001b[39m abc\u001b[38;5;241m.\u001b[39mname \u001b[38;5;241m+\u001b[39m \u001b[38;5;124m\"\u001b[39m\u001b[38;5;124mand age is \u001b[39m\u001b[38;5;124m\"\u001b[39m \u001b[38;5;241m+\u001b[39m \u001b[38;5;28mstr\u001b[39m(\u001b[43mabc\u001b[49m\u001b[38;5;241;43m.\u001b[39;49m\u001b[43mage\u001b[49m))\n",
      "\u001b[1;31mAttributeError\u001b[0m: 'Person' object has no attribute 'age'"
     ]
    }
   ],
   "source": [
    "p1.myfunc()"
   ]
  },
  {
   "cell_type": "markdown",
   "id": "cf950938",
   "metadata": {},
   "source": [
    "# Delete Objects"
   ]
  },
  {
   "cell_type": "code",
   "execution_count": 27,
   "id": "8936b24c",
   "metadata": {},
   "outputs": [],
   "source": [
    "del p1"
   ]
  },
  {
   "cell_type": "markdown",
   "id": "bc256032",
   "metadata": {},
   "source": [
    "# The pass Statement"
   ]
  },
  {
   "cell_type": "markdown",
   "id": "c65748a3",
   "metadata": {},
   "source": [
    "- class definitions cannot be empty, but if you for some reason have a class definition with no content, put in the pass statement to avoid getting an error."
   ]
  },
  {
   "cell_type": "code",
   "execution_count": 28,
   "id": "3ee34642",
   "metadata": {},
   "outputs": [],
   "source": [
    "class Person:\n",
    "  pass"
   ]
  },
  {
   "cell_type": "code",
   "execution_count": null,
   "id": "8ae94cdb",
   "metadata": {},
   "outputs": [],
   "source": []
  },
  {
   "cell_type": "code",
   "execution_count": null,
   "id": "7493474b",
   "metadata": {},
   "outputs": [],
   "source": []
  },
  {
   "cell_type": "code",
   "execution_count": null,
   "id": "9901c292",
   "metadata": {},
   "outputs": [],
   "source": []
  },
  {
   "cell_type": "code",
   "execution_count": null,
   "id": "8b49895b",
   "metadata": {},
   "outputs": [],
   "source": []
  },
  {
   "cell_type": "code",
   "execution_count": null,
   "id": "c71bbd84",
   "metadata": {},
   "outputs": [],
   "source": []
  },
  {
   "cell_type": "code",
   "execution_count": null,
   "id": "21a96520",
   "metadata": {},
   "outputs": [],
   "source": []
  },
  {
   "cell_type": "code",
   "execution_count": null,
   "id": "6cf5af2f",
   "metadata": {},
   "outputs": [],
   "source": []
  },
  {
   "cell_type": "code",
   "execution_count": null,
   "id": "448f3a2c",
   "metadata": {},
   "outputs": [],
   "source": []
  },
  {
   "cell_type": "code",
   "execution_count": null,
   "id": "e7c49744",
   "metadata": {},
   "outputs": [],
   "source": []
  },
  {
   "cell_type": "code",
   "execution_count": null,
   "id": "51824311",
   "metadata": {},
   "outputs": [],
   "source": []
  }
 ],
 "metadata": {
  "kernelspec": {
   "display_name": "Python 3 (ipykernel)",
   "language": "python",
   "name": "python3"
  },
  "language_info": {
   "codemirror_mode": {
    "name": "ipython",
    "version": 3
   },
   "file_extension": ".py",
   "mimetype": "text/x-python",
   "name": "python",
   "nbconvert_exporter": "python",
   "pygments_lexer": "ipython3",
   "version": "3.10.9"
  }
 },
 "nbformat": 4,
 "nbformat_minor": 5
}
